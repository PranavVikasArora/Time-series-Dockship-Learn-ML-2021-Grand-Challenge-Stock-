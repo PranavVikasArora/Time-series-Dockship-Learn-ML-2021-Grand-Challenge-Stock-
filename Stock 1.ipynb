{
 "cells": [
  {
   "cell_type": "code",
   "execution_count": 1,
   "metadata": {},
   "outputs": [],
   "source": [
    "import pandas as pd\n",
    "import numpy as np\n",
    "import matplotlib.pyplot as plt\n",
    "import seaborn as sns"
   ]
  },
  {
   "cell_type": "code",
   "execution_count": 2,
   "metadata": {},
   "outputs": [],
   "source": [
    "train = pd.read_csv(\"new_train.csv\",index_col = 'Date', parse_dates = True)"
   ]
  },
  {
   "cell_type": "code",
   "execution_count": 3,
   "metadata": {},
   "outputs": [
    {
     "data": {
      "text/html": [
       "<div>\n",
       "<style scoped>\n",
       "    .dataframe tbody tr th:only-of-type {\n",
       "        vertical-align: middle;\n",
       "    }\n",
       "\n",
       "    .dataframe tbody tr th {\n",
       "        vertical-align: top;\n",
       "    }\n",
       "\n",
       "    .dataframe thead th {\n",
       "        text-align: right;\n",
       "    }\n",
       "</style>\n",
       "<table border=\"1\" class=\"dataframe\">\n",
       "  <thead>\n",
       "    <tr style=\"text-align: right;\">\n",
       "      <th></th>\n",
       "      <th>Open-Stock-1</th>\n",
       "      <th>High-Stock-1</th>\n",
       "      <th>Low-Stock-1</th>\n",
       "      <th>Close-Stock-1</th>\n",
       "      <th>VWAP-Stock-1</th>\n",
       "      <th>Volume-Stock-1</th>\n",
       "      <th>Turnover-Stock-1</th>\n",
       "      <th>Open-Stock-2</th>\n",
       "      <th>High-Stock-2</th>\n",
       "      <th>Low-Stock-2</th>\n",
       "      <th>...</th>\n",
       "      <th>VWAP-Stock-4</th>\n",
       "      <th>Volume-Stock-4</th>\n",
       "      <th>Turnover-Stock-4</th>\n",
       "      <th>Open-Stock-5</th>\n",
       "      <th>High-Stock-5</th>\n",
       "      <th>Low-Stock-5</th>\n",
       "      <th>Close-Stock-5</th>\n",
       "      <th>VWAP-Stock-5</th>\n",
       "      <th>Volume-Stock-5</th>\n",
       "      <th>Turnover-Stock-5</th>\n",
       "    </tr>\n",
       "    <tr>\n",
       "      <th>Date</th>\n",
       "      <th></th>\n",
       "      <th></th>\n",
       "      <th></th>\n",
       "      <th></th>\n",
       "      <th></th>\n",
       "      <th></th>\n",
       "      <th></th>\n",
       "      <th></th>\n",
       "      <th></th>\n",
       "      <th></th>\n",
       "      <th></th>\n",
       "      <th></th>\n",
       "      <th></th>\n",
       "      <th></th>\n",
       "      <th></th>\n",
       "      <th></th>\n",
       "      <th></th>\n",
       "      <th></th>\n",
       "      <th></th>\n",
       "      <th></th>\n",
       "      <th></th>\n",
       "    </tr>\n",
       "  </thead>\n",
       "  <tbody>\n",
       "    <tr>\n",
       "      <th>2010-06-01</th>\n",
       "      <td>1889.7</td>\n",
       "      <td>1890.00</td>\n",
       "      <td>1838.00</td>\n",
       "      <td>1855.10</td>\n",
       "      <td>1855.75</td>\n",
       "      <td>568273</td>\n",
       "      <td>105457457545000</td>\n",
       "      <td>285.40</td>\n",
       "      <td>285.95</td>\n",
       "      <td>281.50</td>\n",
       "      <td>...</td>\n",
       "      <td>844.44</td>\n",
       "      <td>3878011</td>\n",
       "      <td>327474904340000</td>\n",
       "      <td>1235.0</td>\n",
       "      <td>1238.00</td>\n",
       "      <td>1177.0</td>\n",
       "      <td>1181.70</td>\n",
       "      <td>1197.29</td>\n",
       "      <td>1786082</td>\n",
       "      <td>213845404410000</td>\n",
       "    </tr>\n",
       "    <tr>\n",
       "      <th>2010-06-02</th>\n",
       "      <td>1848.0</td>\n",
       "      <td>1862.75</td>\n",
       "      <td>1828.00</td>\n",
       "      <td>1853.05</td>\n",
       "      <td>1842.82</td>\n",
       "      <td>945167</td>\n",
       "      <td>174177161135000</td>\n",
       "      <td>284.00</td>\n",
       "      <td>284.80</td>\n",
       "      <td>279.25</td>\n",
       "      <td>...</td>\n",
       "      <td>838.31</td>\n",
       "      <td>3320996</td>\n",
       "      <td>278403743240000</td>\n",
       "      <td>1195.0</td>\n",
       "      <td>1206.95</td>\n",
       "      <td>1168.5</td>\n",
       "      <td>1201.15</td>\n",
       "      <td>1189.87</td>\n",
       "      <td>1307410</td>\n",
       "      <td>155564994855000</td>\n",
       "    </tr>\n",
       "    <tr>\n",
       "      <th>2010-06-03</th>\n",
       "      <td>1864.1</td>\n",
       "      <td>1910.00</td>\n",
       "      <td>1864.10</td>\n",
       "      <td>1905.60</td>\n",
       "      <td>1893.91</td>\n",
       "      <td>679689</td>\n",
       "      <td>128727119355000</td>\n",
       "      <td>283.00</td>\n",
       "      <td>286.85</td>\n",
       "      <td>282.50</td>\n",
       "      <td>...</td>\n",
       "      <td>853.51</td>\n",
       "      <td>2494522</td>\n",
       "      <td>212910342645000</td>\n",
       "      <td>1211.0</td>\n",
       "      <td>1248.00</td>\n",
       "      <td>1211.0</td>\n",
       "      <td>1242.30</td>\n",
       "      <td>1231.63</td>\n",
       "      <td>1482919</td>\n",
       "      <td>182640434320000</td>\n",
       "    </tr>\n",
       "    <tr>\n",
       "      <th>2010-06-04</th>\n",
       "      <td>1906.0</td>\n",
       "      <td>1909.80</td>\n",
       "      <td>1880.10</td>\n",
       "      <td>1885.70</td>\n",
       "      <td>1889.21</td>\n",
       "      <td>509435</td>\n",
       "      <td>96242800140000</td>\n",
       "      <td>288.85</td>\n",
       "      <td>291.80</td>\n",
       "      <td>277.00</td>\n",
       "      <td>...</td>\n",
       "      <td>862.85</td>\n",
       "      <td>2963920</td>\n",
       "      <td>255740999120000</td>\n",
       "      <td>1240.0</td>\n",
       "      <td>1258.00</td>\n",
       "      <td>1240.0</td>\n",
       "      <td>1245.45</td>\n",
       "      <td>1249.72</td>\n",
       "      <td>1454459</td>\n",
       "      <td>181767075850000</td>\n",
       "    </tr>\n",
       "    <tr>\n",
       "      <th>2010-06-07</th>\n",
       "      <td>1867.0</td>\n",
       "      <td>1894.85</td>\n",
       "      <td>1808.35</td>\n",
       "      <td>1876.65</td>\n",
       "      <td>1873.32</td>\n",
       "      <td>961913</td>\n",
       "      <td>180196832650000</td>\n",
       "      <td>285.00</td>\n",
       "      <td>289.10</td>\n",
       "      <td>285.00</td>\n",
       "      <td>...</td>\n",
       "      <td>839.89</td>\n",
       "      <td>3471483</td>\n",
       "      <td>291567400640000</td>\n",
       "      <td>1218.6</td>\n",
       "      <td>1225.00</td>\n",
       "      <td>1196.0</td>\n",
       "      <td>1214.80</td>\n",
       "      <td>1209.27</td>\n",
       "      <td>1424594</td>\n",
       "      <td>172272511430000</td>\n",
       "    </tr>\n",
       "  </tbody>\n",
       "</table>\n",
       "<p>5 rows × 35 columns</p>\n",
       "</div>"
      ],
      "text/plain": [
       "            Open-Stock-1  High-Stock-1  Low-Stock-1  Close-Stock-1  \\\n",
       "Date                                                                 \n",
       "2010-06-01        1889.7       1890.00      1838.00        1855.10   \n",
       "2010-06-02        1848.0       1862.75      1828.00        1853.05   \n",
       "2010-06-03        1864.1       1910.00      1864.10        1905.60   \n",
       "2010-06-04        1906.0       1909.80      1880.10        1885.70   \n",
       "2010-06-07        1867.0       1894.85      1808.35        1876.65   \n",
       "\n",
       "            VWAP-Stock-1  Volume-Stock-1  Turnover-Stock-1  Open-Stock-2  \\\n",
       "Date                                                                       \n",
       "2010-06-01       1855.75          568273   105457457545000        285.40   \n",
       "2010-06-02       1842.82          945167   174177161135000        284.00   \n",
       "2010-06-03       1893.91          679689   128727119355000        283.00   \n",
       "2010-06-04       1889.21          509435    96242800140000        288.85   \n",
       "2010-06-07       1873.32          961913   180196832650000        285.00   \n",
       "\n",
       "            High-Stock-2  Low-Stock-2  ...  VWAP-Stock-4  Volume-Stock-4  \\\n",
       "Date                                   ...                                 \n",
       "2010-06-01        285.95       281.50  ...        844.44         3878011   \n",
       "2010-06-02        284.80       279.25  ...        838.31         3320996   \n",
       "2010-06-03        286.85       282.50  ...        853.51         2494522   \n",
       "2010-06-04        291.80       277.00  ...        862.85         2963920   \n",
       "2010-06-07        289.10       285.00  ...        839.89         3471483   \n",
       "\n",
       "            Turnover-Stock-4  Open-Stock-5  High-Stock-5  Low-Stock-5  \\\n",
       "Date                                                                    \n",
       "2010-06-01   327474904340000        1235.0       1238.00       1177.0   \n",
       "2010-06-02   278403743240000        1195.0       1206.95       1168.5   \n",
       "2010-06-03   212910342645000        1211.0       1248.00       1211.0   \n",
       "2010-06-04   255740999120000        1240.0       1258.00       1240.0   \n",
       "2010-06-07   291567400640000        1218.6       1225.00       1196.0   \n",
       "\n",
       "            Close-Stock-5  VWAP-Stock-5  Volume-Stock-5  Turnover-Stock-5  \n",
       "Date                                                                       \n",
       "2010-06-01        1181.70       1197.29         1786082   213845404410000  \n",
       "2010-06-02        1201.15       1189.87         1307410   155564994855000  \n",
       "2010-06-03        1242.30       1231.63         1482919   182640434320000  \n",
       "2010-06-04        1245.45       1249.72         1454459   181767075850000  \n",
       "2010-06-07        1214.80       1209.27         1424594   172272511430000  \n",
       "\n",
       "[5 rows x 35 columns]"
      ]
     },
     "execution_count": 3,
     "metadata": {},
     "output_type": "execute_result"
    }
   ],
   "source": [
    "train.head()"
   ]
  },
  {
   "cell_type": "code",
   "execution_count": 4,
   "metadata": {},
   "outputs": [
    {
     "data": {
      "text/plain": [
       "Open-Stock-1        0\n",
       "High-Stock-1        0\n",
       "Low-Stock-1         0\n",
       "Close-Stock-1       0\n",
       "VWAP-Stock-1        0\n",
       "Volume-Stock-1      0\n",
       "Turnover-Stock-1    0\n",
       "Open-Stock-2        0\n",
       "High-Stock-2        0\n",
       "Low-Stock-2         0\n",
       "Close-Stock-2       0\n",
       "VWAP-Stock-2        0\n",
       "Volume-Stock-2      0\n",
       "Turnover-Stock-2    0\n",
       "Open-Stock-3        0\n",
       "High-Stock-3        0\n",
       "Low-Stock-3         0\n",
       "Close-Stock-3       0\n",
       "VWAP-Stock-3        0\n",
       "Volume-Stock-3      0\n",
       "Turnover-Stock-3    0\n",
       "Open-Stock-4        0\n",
       "High-Stock-4        0\n",
       "Low-Stock-4         0\n",
       "Close-Stock-4       0\n",
       "VWAP-Stock-4        0\n",
       "Volume-Stock-4      0\n",
       "Turnover-Stock-4    0\n",
       "Open-Stock-5        0\n",
       "High-Stock-5        0\n",
       "Low-Stock-5         0\n",
       "Close-Stock-5       0\n",
       "VWAP-Stock-5        0\n",
       "Volume-Stock-5      0\n",
       "Turnover-Stock-5    0\n",
       "dtype: int64"
      ]
     },
     "execution_count": 4,
     "metadata": {},
     "output_type": "execute_result"
    }
   ],
   "source": [
    "train.isna().sum()"
   ]
  },
  {
   "cell_type": "code",
   "execution_count": 5,
   "metadata": {},
   "outputs": [],
   "source": [
    "train['diff_1'] = train['Close-Stock-1'] - train['Open-Stock-1']"
   ]
  },
  {
   "cell_type": "code",
   "execution_count": 6,
   "metadata": {},
   "outputs": [
    {
     "data": {
      "text/plain": [
       "<matplotlib.axes._subplots.AxesSubplot at 0x162f44a3ac8>"
      ]
     },
     "execution_count": 6,
     "metadata": {},
     "output_type": "execute_result"
    },
    {
     "data": {
      "image/png": "[encoded data removed]",
      "text/plain": [
       "<Figure size 432x288 with 1 Axes>"
      ]
     },
     "metadata": {
      "needs_background": "light"
     },
     "output_type": "display_data"
    }
   ],
   "source": [
    "train['Close-Stock-1'].plot()"
   ]
  },
  {
   "cell_type": "code",
   "execution_count": 7,
   "metadata": {},
   "outputs": [
    {
     "data": {
      "text/plain": [
       "<matplotlib.axes._subplots.AxesSubplot at 0x162f4c25588>"
      ]
     },
     "execution_count": 7,
     "metadata": {},
     "output_type": "execute_result"
    },
    {
     "data": {
      "image/png": "[encoded data removed]",
      "text/plain": [
       "<Figure size 432x288 with 1 Axes>"
      ]
     },
     "metadata": {
      "needs_background": "light"
     },
     "output_type": "display_data"
    }
   ],
   "source": [
    "train['diff_1'].plot()"
   ]
  },
  {
   "cell_type": "code",
   "execution_count": 8,
   "metadata": {},
   "outputs": [
    {
     "name": "stdout",
     "output_type": "stream",
     "text": [
      "1. ADF :  -1.0109593608417102\n",
      "2. P-Value :  0.7492461683155921\n",
      "3. Num Of Lags :  0\n",
      "4. Num Of Observations Used For ADF Regression: 298\n",
      "5. Critical Values :\n",
      "\t 1% :  -3.4524859843440754\n",
      "\t 5% :  -2.871288184343229\n",
      "\t 10% :  -2.571964047565425\n"
     ]
    }
   ],
   "source": [
    "from statsmodels.tsa.stattools import adfuller\n",
    "def ad_test(dataset):\n",
    "     dftest = adfuller(dataset, autolag = 'AIC')\n",
    "     print(\"1. ADF : \",dftest[0])\n",
    "     print(\"2. P-Value : \", dftest[1])\n",
    "     print(\"3. Num Of Lags : \", dftest[2])\n",
    "     print(\"4. Num Of Observations Used For ADF Regression:\",      dftest[3])\n",
    "     print(\"5. Critical Values :\")\n",
    "     for key, val in dftest[4].items():\n",
    "         print(\"\\t\",key, \": \", val)\n",
    "ad_test(train['Close-Stock-1'])"
   ]
  },
  {
   "cell_type": "code",
   "execution_count": 9,
   "metadata": {},
   "outputs": [
    {
     "name": "stdout",
     "output_type": "stream",
     "text": [
      "1. ADF :  -6.872951941900281\n",
      "2. P-Value :  1.4993656688833762e-09\n",
      "3. Num Of Lags :  3\n",
      "4. Num Of Observations Used For ADF Regression: 295\n",
      "5. Critical Values :\n",
      "\t 1% :  -3.452713099849546\n",
      "\t 5% :  -2.871387839457783\n",
      "\t 10% :  -2.5720171933352485\n"
     ]
    }
   ],
   "source": [
    "ad_test(train['diff_1'])"
   ]
  },
  {
   "cell_type": "code",
   "execution_count": 10,
   "metadata": {},
   "outputs": [],
   "source": [
    "#P value not less than 0.05 hence the dataset is not stationary "
   ]
  },
  {
   "cell_type": "code",
   "execution_count": 11,
   "metadata": {},
   "outputs": [],
   "source": [
    "train['Close-Stock-1'] = train['Close-Stock-1'].diff()"
   ]
  },
  {
   "cell_type": "code",
   "execution_count": 12,
   "metadata": {},
   "outputs": [],
   "source": [
    "train['diff_1'] = train['diff_1'].diff()"
   ]
  },
  {
   "cell_type": "code",
   "execution_count": 13,
   "metadata": {},
   "outputs": [
    {
     "data": {
      "text/plain": [
       "Date\n",
       "2010-06-01      NaN\n",
       "2010-06-02    -2.05\n",
       "2010-06-03    52.55\n",
       "2010-06-04   -19.90\n",
       "2010-06-07    -9.05\n",
       "              ...  \n",
       "2011-07-28   -14.75\n",
       "2011-07-29    -0.50\n",
       "2011-08-01     1.20\n",
       "2011-08-02    -5.15\n",
       "2011-08-03    -0.80\n",
       "Name: Close-Stock-1, Length: 299, dtype: float64"
      ]
     },
     "execution_count": 13,
     "metadata": {},
     "output_type": "execute_result"
    }
   ],
   "source": [
    "train['Close-Stock-1']"
   ]
  },
  {
   "cell_type": "code",
   "execution_count": 14,
   "metadata": {},
   "outputs": [
    {
     "data": {
      "text/plain": [
       "Date\n",
       "2010-06-01      NaN\n",
       "2010-06-02    39.65\n",
       "2010-06-03    36.45\n",
       "2010-06-04   -61.80\n",
       "2010-06-07    29.95\n",
       "              ...  \n",
       "2011-07-28   -14.90\n",
       "2011-07-29     9.10\n",
       "2011-08-01    -2.35\n",
       "2011-08-02     0.40\n",
       "2011-08-03     8.40\n",
       "Name: diff_1, Length: 299, dtype: float64"
      ]
     },
     "execution_count": 14,
     "metadata": {},
     "output_type": "execute_result"
    }
   ],
   "source": [
    "train['diff_1']"
   ]
  },
  {
   "cell_type": "code",
   "execution_count": 15,
   "metadata": {},
   "outputs": [],
   "source": [
    "train = train.dropna()"
   ]
  },
  {
   "cell_type": "code",
   "execution_count": 16,
   "metadata": {},
   "outputs": [
    {
     "data": {
      "text/plain": [
       "Date\n",
       "2010-06-02    -2.05\n",
       "2010-06-03    52.55\n",
       "2010-06-04   -19.90\n",
       "2010-06-07    -9.05\n",
       "2010-06-08   -13.95\n",
       "              ...  \n",
       "2011-07-28   -14.75\n",
       "2011-07-29    -0.50\n",
       "2011-08-01     1.20\n",
       "2011-08-02    -5.15\n",
       "2011-08-03    -0.80\n",
       "Name: Close-Stock-1, Length: 298, dtype: float64"
      ]
     },
     "execution_count": 16,
     "metadata": {},
     "output_type": "execute_result"
    }
   ],
   "source": [
    "train['Close-Stock-1']"
   ]
  },
  {
   "cell_type": "code",
   "execution_count": 17,
   "metadata": {},
   "outputs": [
    {
     "name": "stdout",
     "output_type": "stream",
     "text": [
      "1. ADF :  -17.525889539403863\n",
      "2. P-Value :  4.2616699209819644e-30\n",
      "3. Num Of Lags :  0\n",
      "4. Num Of Observations Used For ADF Regression: 297\n",
      "5. Critical Values :\n",
      "\t 1% :  -3.4525611751768914\n",
      "\t 5% :  -2.87132117782556\n",
      "\t 10% :  -2.5719816428028888\n"
     ]
    }
   ],
   "source": [
    "ad_test(train['Close-Stock-1'])"
   ]
  },
  {
   "cell_type": "code",
   "execution_count": 18,
   "metadata": {},
   "outputs": [
    {
     "name": "stdout",
     "output_type": "stream",
     "text": [
      "1. ADF :  -8.611669059361782\n",
      "2. P-Value :  6.450854303289554e-14\n",
      "3. Num Of Lags :  13\n",
      "4. Num Of Observations Used For ADF Regression: 284\n",
      "5. Critical Values :\n",
      "\t 1% :  -3.4535872903895797\n",
      "\t 5% :  -2.871771355211212\n",
      "\t 10% :  -2.5722217283277127\n"
     ]
    }
   ],
   "source": [
    "ad_test(train['diff_1'])"
   ]
  },
  {
   "cell_type": "code",
   "execution_count": 19,
   "metadata": {},
   "outputs": [
    {
     "data": {
      "text/plain": [
       "<matplotlib.axes._subplots.AxesSubplot at 0x162f5013948>"
      ]
     },
     "execution_count": 19,
     "metadata": {},
     "output_type": "execute_result"
    },
    {
     "data": {
      "image/png": "[encoded data removed]",
      "text/plain": [
       "<Figure size 432x288 with 1 Axes>"
      ]
     },
     "metadata": {
      "needs_background": "light"
     },
     "output_type": "display_data"
    }
   ],
   "source": [
    "train['Close-Stock-1'].plot()"
   ]
  },
  {
   "cell_type": "code",
   "execution_count": 20,
   "metadata": {},
   "outputs": [
    {
     "data": {
      "text/plain": [
       "<matplotlib.axes._subplots.AxesSubplot at 0x162f50633c8>"
      ]
     },
     "execution_count": 20,
     "metadata": {},
     "output_type": "execute_result"
    },
    {
     "data": {
      "image/png": "[encoded data removed]",
      "text/plain": [
       "<Figure size 432x288 with 1 Axes>"
      ]
     },
     "metadata": {
      "needs_background": "light"
     },
     "output_type": "display_data"
    }
   ],
   "source": [
    "train['diff_1'].plot()"
   ]
  },
  {
   "cell_type": "code",
   "execution_count": 21,
   "metadata": {},
   "outputs": [],
   "source": [
    "from pmdarima import auto_arima"
   ]
  },
  {
   "cell_type": "code",
   "execution_count": 22,
   "metadata": {},
   "outputs": [
    {
     "name": "stdout",
     "output_type": "stream",
     "text": [
      "Performing stepwise search to minimize aic\n",
      " ARIMA(2,0,2)(0,0,0)[0] intercept   : AIC=3716.650, Time=1.79 sec\n",
      " ARIMA(0,0,0)(0,0,0)[0] intercept   : AIC=3709.111, Time=0.01 sec\n",
      " ARIMA(1,0,0)(0,0,0)[0] intercept   : AIC=3710.992, Time=0.02 sec\n",
      " ARIMA(0,0,1)(0,0,0)[0] intercept   : AIC=3710.995, Time=0.07 sec\n",
      " ARIMA(0,0,0)(0,0,0)[0]             : AIC=3707.541, Time=0.09 sec\n",
      " ARIMA(1,0,1)(0,0,0)[0] intercept   : AIC=3712.963, Time=0.25 sec\n",
      "\n",
      "Best model:  ARIMA(0,0,0)(0,0,0)[0]          \n",
      "Total fit time: 2.623 seconds\n"
     ]
    }
   ],
   "source": [
    "#Auto arima is going to try diff values for the orders like (0,0,0), (0,0,1) and so on and return the best set of values for orders\n",
    "stepwise_fit = auto_arima(train['Close-Stock-1'] , trace  = True)"
   ]
  },
  {
   "cell_type": "code",
   "execution_count": 23,
   "metadata": {},
   "outputs": [
    {
     "name": "stdout",
     "output_type": "stream",
     "text": [
      "Performing stepwise search to minimize aic\n",
      " ARIMA(2,0,2)(0,0,0)[0] intercept   : AIC=inf, Time=0.62 sec\n",
      " ARIMA(0,0,0)(0,0,0)[0] intercept   : AIC=3130.573, Time=0.01 sec\n",
      " ARIMA(1,0,0)(0,0,0)[0] intercept   : AIC=3053.867, Time=0.12 sec\n",
      " ARIMA(0,0,1)(0,0,0)[0] intercept   : AIC=2949.063, Time=0.33 sec\n",
      " ARIMA(0,0,0)(0,0,0)[0]             : AIC=3128.575, Time=0.02 sec\n",
      " ARIMA(1,0,1)(0,0,0)[0] intercept   : AIC=inf, Time=0.31 sec\n",
      " ARIMA(0,0,2)(0,0,0)[0] intercept   : AIC=inf, Time=0.39 sec\n",
      " ARIMA(1,0,2)(0,0,0)[0] intercept   : AIC=2952.162, Time=0.39 sec\n",
      " ARIMA(0,0,1)(0,0,0)[0]             : AIC=2947.095, Time=0.05 sec\n",
      " ARIMA(1,0,1)(0,0,0)[0]             : AIC=2948.547, Time=0.11 sec\n",
      " ARIMA(0,0,2)(0,0,0)[0]             : AIC=2948.565, Time=0.12 sec\n",
      " ARIMA(1,0,0)(0,0,0)[0]             : AIC=3051.870, Time=0.02 sec\n",
      " ARIMA(1,0,2)(0,0,0)[0]             : AIC=2950.195, Time=0.17 sec\n",
      "\n",
      "Best model:  ARIMA(0,0,1)(0,0,0)[0]          \n",
      "Total fit time: 2.685 seconds\n"
     ]
    }
   ],
   "source": [
    "stepwise_fit = auto_arima(train['diff_1'] , trace  = True)"
   ]
  },
  {
   "cell_type": "code",
   "execution_count": 24,
   "metadata": {},
   "outputs": [],
   "source": [
    "#Goal is to minimise AIC"
   ]
  },
  {
   "cell_type": "code",
   "execution_count": 25,
   "metadata": {},
   "outputs": [],
   "source": [
    "from statsmodels.tsa.arima_model import ARIMA"
   ]
  },
  {
   "cell_type": "code",
   "execution_count": 26,
   "metadata": {},
   "outputs": [
    {
     "data": {
      "text/plain": [
       "(298, 36)"
      ]
     },
     "execution_count": 26,
     "metadata": {},
     "output_type": "execute_result"
    }
   ],
   "source": [
    "train.shape"
   ]
  },
  {
   "cell_type": "code",
   "execution_count": 27,
   "metadata": {},
   "outputs": [
    {
     "name": "stdout",
     "output_type": "stream",
     "text": [
      "(268, 36) (30, 36)\n"
     ]
    }
   ],
   "source": [
    "train_model = train.iloc[:-30]\n",
    "test_model = train.iloc[-30:]\n",
    "print(train_model.shape, test_model.shape)"
   ]
  },
  {
   "cell_type": "code",
   "execution_count": 28,
   "metadata": {},
   "outputs": [
    {
     "name": "stderr",
     "output_type": "stream",
     "text": [
      "C:\\Users\\prana\\anaconda3\\lib\\site-packages\\statsmodels\\tsa\\base\\tsa_model.py:218: ValueWarning: A date index has been provided, but it has no associated frequency information and so will be ignored when e.g. forecasting.\n",
      "  ' ignored when e.g. forecasting.', ValueWarning)\n"
     ]
    },
    {
     "data": {
      "text/html": [
       "<table class=\"simpletable\">\n",
       "<caption>ARMA Model Results</caption>\n",
       "<tr>\n",
       "  <th>Dep. Variable:</th>   <td>Close-Stock-1</td>  <th>  No. Observations:  </th>    <td>268</td>   \n",
       "</tr>\n",
       "<tr>\n",
       "  <th>Model:</th>            <td>ARMA(0, 0)</td>    <th>  Log Likelihood     </th> <td>-1327.205</td>\n",
       "</tr>\n",
       "<tr>\n",
       "  <th>Method:</th>               <td>css</td>       <th>  S.D. of innovations</th>  <td>34.237</td>  \n",
       "</tr>\n",
       "<tr>\n",
       "  <th>Date:</th>          <td>Sun, 10 Jan 2021</td> <th>  AIC                </th> <td>2658.410</td> \n",
       "</tr>\n",
       "<tr>\n",
       "  <th>Time:</th>              <td>21:04:26</td>     <th>  BIC                </th> <td>2665.592</td> \n",
       "</tr>\n",
       "<tr>\n",
       "  <th>Sample:</th>                <td>0</td>        <th>  HQIC               </th> <td>2661.294</td> \n",
       "</tr>\n",
       "<tr>\n",
       "  <th></th>                       <td> </td>        <th>                     </th>     <td> </td>    \n",
       "</tr>\n",
       "</table>\n",
       "<table class=\"simpletable\">\n",
       "<tr>\n",
       "    <td></td>       <th>coef</th>     <th>std err</th>      <th>z</th>      <th>P>|z|</th>  <th>[0.025</th>    <th>0.975]</th>  \n",
       "</tr>\n",
       "<tr>\n",
       "  <th>const</th> <td>    1.7448</td> <td>    2.091</td> <td>    0.834</td> <td> 0.404</td> <td>   -2.354</td> <td>    5.844</td>\n",
       "</tr>\n",
       "</table>"
      ],
      "text/plain": [
       "<class 'statsmodels.iolib.summary.Summary'>\n",
       "\"\"\"\n",
       "                              ARMA Model Results                              \n",
       "==============================================================================\n",
       "Dep. Variable:          Close-Stock-1   No. Observations:                  268\n",
       "Model:                     ARMA(0, 0)   Log Likelihood               -1327.205\n",
       "Method:                           css   S.D. of innovations             34.237\n",
       "Date:                Sun, 10 Jan 2021   AIC                           2658.410\n",
       "Time:                        21:04:26   BIC                           2665.592\n",
       "Sample:                             0   HQIC                          2661.294\n",
       "                                                                              \n",
       "==============================================================================\n",
       "                 coef    std err          z      P>|z|      [0.025      0.975]\n",
       "------------------------------------------------------------------------------\n",
       "const          1.7448      2.091      0.834      0.404      -2.354       5.844\n",
       "==============================================================================\n",
       "\"\"\""
      ]
     },
     "execution_count": 28,
     "metadata": {},
     "output_type": "execute_result"
    }
   ],
   "source": [
    "model = ARIMA(train_model['Close-Stock-1'], order = (0,0,0))\n",
    "model = model.fit()\n",
    "model.summary()"
   ]
  },
  {
   "cell_type": "code",
   "execution_count": 29,
   "metadata": {},
   "outputs": [
    {
     "name": "stderr",
     "output_type": "stream",
     "text": [
      "C:\\Users\\prana\\anaconda3\\lib\\site-packages\\statsmodels\\tsa\\base\\tsa_model.py:218: ValueWarning: A date index has been provided, but it has no associated frequency information and so will be ignored when e.g. forecasting.\n",
      "  ' ignored when e.g. forecasting.', ValueWarning)\n"
     ]
    },
    {
     "data": {
      "text/html": [
       "<table class=\"simpletable\">\n",
       "<caption>ARMA Model Results</caption>\n",
       "<tr>\n",
       "  <th>Dep. Variable:</th>      <td>diff_1</td>      <th>  No. Observations:  </th>    <td>268</td>   \n",
       "</tr>\n",
       "<tr>\n",
       "  <th>Model:</th>            <td>ARMA(0, 1)</td>    <th>  Log Likelihood     </th> <td>-1332.965</td>\n",
       "</tr>\n",
       "<tr>\n",
       "  <th>Method:</th>             <td>css-mle</td>     <th>  S.D. of innovations</th>  <td>34.795</td>  \n",
       "</tr>\n",
       "<tr>\n",
       "  <th>Date:</th>          <td>Sun, 10 Jan 2021</td> <th>  AIC                </th> <td>2671.930</td> \n",
       "</tr>\n",
       "<tr>\n",
       "  <th>Time:</th>              <td>21:04:26</td>     <th>  BIC                </th> <td>2682.703</td> \n",
       "</tr>\n",
       "<tr>\n",
       "  <th>Sample:</th>                <td>0</td>        <th>  HQIC               </th> <td>2676.257</td> \n",
       "</tr>\n",
       "<tr>\n",
       "  <th></th>                       <td> </td>        <th>                     </th>     <td> </td>    \n",
       "</tr>\n",
       "</table>\n",
       "<table class=\"simpletable\">\n",
       "<tr>\n",
       "        <td></td>          <th>coef</th>     <th>std err</th>      <th>z</th>      <th>P>|z|</th>  <th>[0.025</th>    <th>0.975]</th>  \n",
       "</tr>\n",
       "<tr>\n",
       "  <th>const</th>        <td>   -0.0091</td> <td>    0.071</td> <td>   -0.128</td> <td> 0.898</td> <td>   -0.148</td> <td>    0.130</td>\n",
       "</tr>\n",
       "<tr>\n",
       "  <th>ma.L1.diff_1</th> <td>   -0.9712</td> <td>    0.024</td> <td>  -40.069</td> <td> 0.000</td> <td>   -1.019</td> <td>   -0.924</td>\n",
       "</tr>\n",
       "</table>\n",
       "<table class=\"simpletable\">\n",
       "<caption>Roots</caption>\n",
       "<tr>\n",
       "    <td></td>   <th>            Real</th>  <th>         Imaginary</th> <th>         Modulus</th>  <th>        Frequency</th>\n",
       "</tr>\n",
       "<tr>\n",
       "  <th>MA.1</th> <td>           1.0297</td> <td>          +0.0000j</td> <td>           1.0297</td> <td>           0.0000</td>\n",
       "</tr>\n",
       "</table>"
      ],
      "text/plain": [
       "<class 'statsmodels.iolib.summary.Summary'>\n",
       "\"\"\"\n",
       "                              ARMA Model Results                              \n",
       "==============================================================================\n",
       "Dep. Variable:                 diff_1   No. Observations:                  268\n",
       "Model:                     ARMA(0, 1)   Log Likelihood               -1332.965\n",
       "Method:                       css-mle   S.D. of innovations             34.795\n",
       "Date:                Sun, 10 Jan 2021   AIC                           2671.930\n",
       "Time:                        21:04:26   BIC                           2682.703\n",
       "Sample:                             0   HQIC                          2676.257\n",
       "                                                                              \n",
       "================================================================================\n",
       "                   coef    std err          z      P>|z|      [0.025      0.975]\n",
       "--------------------------------------------------------------------------------\n",
       "const           -0.0091      0.071     -0.128      0.898      -0.148       0.130\n",
       "ma.L1.diff_1    -0.9712      0.024    -40.069      0.000      -1.019      -0.924\n",
       "                                    Roots                                    \n",
       "=============================================================================\n",
       "                  Real          Imaginary           Modulus         Frequency\n",
       "-----------------------------------------------------------------------------\n",
       "MA.1            1.0297           +0.0000j            1.0297            0.0000\n",
       "-----------------------------------------------------------------------------\n",
       "\"\"\""
      ]
     },
     "execution_count": 29,
     "metadata": {},
     "output_type": "execute_result"
    }
   ],
   "source": [
    "model_1 = ARIMA(train_model['diff_1'], order = (0,0,1))\n",
    "model_1 = model_1.fit()\n",
    "model_1.summary()"
   ]
  },
  {
   "cell_type": "code",
   "execution_count": 30,
   "metadata": {},
   "outputs": [
    {
     "name": "stdout",
     "output_type": "stream",
     "text": [
      "Date\n",
      "2011-06-23    1.744776\n",
      "2011-06-24    1.744776\n",
      "2011-06-27    1.744776\n",
      "2011-06-28    1.744776\n",
      "2011-06-29    1.744776\n",
      "2011-06-30    1.744776\n",
      "2011-07-01    1.744776\n",
      "2011-07-04    1.744776\n",
      "2011-07-05    1.744776\n",
      "2011-07-06    1.744776\n",
      "2011-07-07    1.744776\n",
      "2011-07-08    1.744776\n",
      "2011-07-11    1.744776\n",
      "2011-07-12    1.744776\n",
      "2011-07-13    1.744776\n",
      "2011-07-14    1.744776\n",
      "2011-07-15    1.744776\n",
      "2011-07-18    1.744776\n",
      "2011-07-19    1.744776\n",
      "2011-07-20    1.744776\n",
      "2011-07-21    1.744776\n",
      "2011-07-22    1.744776\n",
      "2011-07-25    1.744776\n",
      "2011-07-26    1.744776\n",
      "2011-07-27    1.744776\n",
      "2011-07-28    1.744776\n",
      "2011-07-29    1.744776\n",
      "2011-08-01    1.744776\n",
      "2011-08-02    1.744776\n",
      "2011-08-03    1.744776\n",
      "dtype: float64\n"
     ]
    },
    {
     "name": "stderr",
     "output_type": "stream",
     "text": [
      "C:\\Users\\prana\\anaconda3\\lib\\site-packages\\statsmodels\\tsa\\base\\tsa_model.py:583: ValueWarning: No supported index is available. Prediction results will be given with an integer index beginning at `start`.\n",
      "  ValueWarning)\n"
     ]
    }
   ],
   "source": [
    "start=len(train_model)\n",
    "end=len(train_model)+len(test_model)-1\n",
    "pred=model.predict(start=start,end=end,typ='levels')\n",
    "pred.index = train.index[start:end+1]\n",
    "print(pred)\n"
   ]
  },
  {
   "cell_type": "code",
   "execution_count": 31,
   "metadata": {},
   "outputs": [
    {
     "name": "stderr",
     "output_type": "stream",
     "text": [
      "C:\\Users\\prana\\anaconda3\\lib\\site-packages\\statsmodels\\tsa\\base\\tsa_model.py:583: ValueWarning: No supported index is available. Prediction results will be given with an integer index beginning at `start`.\n",
      "  ValueWarning)\n"
     ]
    },
    {
     "name": "stdout",
     "output_type": "stream",
     "text": [
      "Date\n",
      "2011-06-23    11.439661\n",
      "2011-06-24    -0.009052\n",
      "2011-06-27    -0.009052\n",
      "2011-06-28    -0.009052\n",
      "2011-06-29    -0.009052\n",
      "2011-06-30    -0.009052\n",
      "2011-07-01    -0.009052\n",
      "2011-07-04    -0.009052\n",
      "2011-07-05    -0.009052\n",
      "2011-07-06    -0.009052\n",
      "2011-07-07    -0.009052\n",
      "2011-07-08    -0.009052\n",
      "2011-07-11    -0.009052\n",
      "2011-07-12    -0.009052\n",
      "2011-07-13    -0.009052\n",
      "2011-07-14    -0.009052\n",
      "2011-07-15    -0.009052\n",
      "2011-07-18    -0.009052\n",
      "2011-07-19    -0.009052\n",
      "2011-07-20    -0.009052\n",
      "2011-07-21    -0.009052\n",
      "2011-07-22    -0.009052\n",
      "2011-07-25    -0.009052\n",
      "2011-07-26    -0.009052\n",
      "2011-07-27    -0.009052\n",
      "2011-07-28    -0.009052\n",
      "2011-07-29    -0.009052\n",
      "2011-08-01    -0.009052\n",
      "2011-08-02    -0.009052\n",
      "2011-08-03    -0.009052\n",
      "dtype: float64\n"
     ]
    }
   ],
   "source": [
    "start=len(train_model)\n",
    "end=len(train_model)+len(test_model)-1\n",
    "pred_1 =model_1.predict(start=start,end=end,typ='levels')\n",
    "pred_1.index = train.index[start:end+1]\n",
    "print(pred_1)\n"
   ]
  },
  {
   "cell_type": "code",
   "execution_count": 32,
   "metadata": {},
   "outputs": [
    {
     "data": {
      "text/plain": [
       "<matplotlib.axes._subplots.AxesSubplot at 0x162fb2ff448>"
      ]
     },
     "execution_count": 32,
     "metadata": {},
     "output_type": "execute_result"
    },
    {
     "data": {
      "image/png": "[encoded data removed]",
      "text/plain": [
       "<Figure size 432x288 with 1 Axes>"
      ]
     },
     "metadata": {
      "needs_background": "light"
     },
     "output_type": "display_data"
    }
   ],
   "source": [
    "pred.plot(legend = True)\n",
    "test_model['Close-Stock-1'].plot(legend = True)"
   ]
  },
  {
   "cell_type": "code",
   "execution_count": 33,
   "metadata": {},
   "outputs": [
    {
     "data": {
      "text/plain": [
       "<matplotlib.axes._subplots.AxesSubplot at 0x162fb2ebe08>"
      ]
     },
     "execution_count": 33,
     "metadata": {},
     "output_type": "execute_result"
    },
    {
     "data": {
      "image/png": "[encoded data removed]",
      "text/plain": [
       "<Figure size 432x288 with 1 Axes>"
      ]
     },
     "metadata": {
      "needs_background": "light"
     },
     "output_type": "display_data"
    }
   ],
   "source": [
    "pred_1.plot(legend = True)\n",
    "test_model['diff_1'].plot(legend = True)"
   ]
  },
  {
   "cell_type": "code",
   "execution_count": 34,
   "metadata": {},
   "outputs": [
    {
     "data": {
      "text/plain": [
       "-61.355"
      ]
     },
     "execution_count": 34,
     "metadata": {},
     "output_type": "execute_result"
    }
   ],
   "source": [
    "test_model['Close-Stock-1'].mean()"
   ]
  },
  {
   "cell_type": "code",
   "execution_count": 35,
   "metadata": {},
   "outputs": [
    {
     "name": "stdout",
     "output_type": "stream",
     "text": [
      "368.6691140277219\n"
     ]
    }
   ],
   "source": [
    "from sklearn.metrics import mean_squared_error\n",
    "from math import sqrt\n",
    "test_model['Close-Stock-1'].mean()\n",
    "rmse=sqrt(mean_squared_error(pred,test_model['Close-Stock-1']))\n",
    "print(rmse)"
   ]
  },
  {
   "cell_type": "code",
   "execution_count": 36,
   "metadata": {},
   "outputs": [
    {
     "name": "stdout",
     "output_type": "stream",
     "text": [
      "25.1410709459515\n"
     ]
    }
   ],
   "source": [
    "from sklearn.metrics import mean_squared_error\n",
    "from math import sqrt\n",
    "test_model['diff_1'].mean()\n",
    "rmse=sqrt(mean_squared_error(pred_1,test_model['diff_1']))\n",
    "print(rmse)"
   ]
  },
  {
   "cell_type": "code",
   "execution_count": 37,
   "metadata": {},
   "outputs": [],
   "source": [
    "test_op = pd.read_csv(\"new_test.csv\",index_col = 'Date', parse_dates = True)"
   ]
  },
  {
   "cell_type": "code",
   "execution_count": 38,
   "metadata": {},
   "outputs": [
    {
     "data": {
      "text/html": [
       "<div>\n",
       "<style scoped>\n",
       "    .dataframe tbody tr th:only-of-type {\n",
       "        vertical-align: middle;\n",
       "    }\n",
       "\n",
       "    .dataframe tbody tr th {\n",
       "        vertical-align: top;\n",
       "    }\n",
       "\n",
       "    .dataframe thead th {\n",
       "        text-align: right;\n",
       "    }\n",
       "</style>\n",
       "<table border=\"1\" class=\"dataframe\">\n",
       "  <thead>\n",
       "    <tr style=\"text-align: right;\">\n",
       "      <th></th>\n",
       "      <th>Open-Stock-1</th>\n",
       "      <th>High-Stock-1</th>\n",
       "      <th>Low-Stock-1</th>\n",
       "      <th>VWAP-Stock-1</th>\n",
       "      <th>Volume-Stock-1</th>\n",
       "      <th>Turnover-Stock-1</th>\n",
       "      <th>Open-Stock-2</th>\n",
       "      <th>High-Stock-2</th>\n",
       "      <th>Low-Stock-2</th>\n",
       "      <th>VWAP-Stock-2</th>\n",
       "      <th>...</th>\n",
       "      <th>Low-Stock-4</th>\n",
       "      <th>VWAP-Stock-4</th>\n",
       "      <th>Volume-Stock-4</th>\n",
       "      <th>Turnover-Stock-4</th>\n",
       "      <th>Open-Stock-5</th>\n",
       "      <th>High-Stock-5</th>\n",
       "      <th>Low-Stock-5</th>\n",
       "      <th>VWAP-Stock-5</th>\n",
       "      <th>Volume-Stock-5</th>\n",
       "      <th>Turnover-Stock-5</th>\n",
       "    </tr>\n",
       "    <tr>\n",
       "      <th>Date</th>\n",
       "      <th></th>\n",
       "      <th></th>\n",
       "      <th></th>\n",
       "      <th></th>\n",
       "      <th></th>\n",
       "      <th></th>\n",
       "      <th></th>\n",
       "      <th></th>\n",
       "      <th></th>\n",
       "      <th></th>\n",
       "      <th></th>\n",
       "      <th></th>\n",
       "      <th></th>\n",
       "      <th></th>\n",
       "      <th></th>\n",
       "      <th></th>\n",
       "      <th></th>\n",
       "      <th></th>\n",
       "      <th></th>\n",
       "      <th></th>\n",
       "      <th></th>\n",
       "    </tr>\n",
       "  </thead>\n",
       "  <tbody>\n",
       "    <tr>\n",
       "      <th>2011-08-04</th>\n",
       "      <td>484.1</td>\n",
       "      <td>488.90</td>\n",
       "      <td>475.00</td>\n",
       "      <td>481.00</td>\n",
       "      <td>1829606</td>\n",
       "      <td>88003633160000</td>\n",
       "      <td>204.90</td>\n",
       "      <td>206.75</td>\n",
       "      <td>199.20</td>\n",
       "      <td>202.98</td>\n",
       "      <td>...</td>\n",
       "      <td>990.00</td>\n",
       "      <td>1003.31</td>\n",
       "      <td>2716435</td>\n",
       "      <td>272542181190000</td>\n",
       "      <td>1303.6</td>\n",
       "      <td>1312.8</td>\n",
       "      <td>1281.00</td>\n",
       "      <td>1297.04</td>\n",
       "      <td>1569675</td>\n",
       "      <td>203593328285000</td>\n",
       "    </tr>\n",
       "    <tr>\n",
       "      <th>2011-08-05</th>\n",
       "      <td>465.0</td>\n",
       "      <td>475.80</td>\n",
       "      <td>457.10</td>\n",
       "      <td>469.56</td>\n",
       "      <td>3156094</td>\n",
       "      <td>148196817355000</td>\n",
       "      <td>195.00</td>\n",
       "      <td>198.00</td>\n",
       "      <td>190.50</td>\n",
       "      <td>194.86</td>\n",
       "      <td>...</td>\n",
       "      <td>950.00</td>\n",
       "      <td>961.50</td>\n",
       "      <td>4644498</td>\n",
       "      <td>446567961345000</td>\n",
       "      <td>1245.0</td>\n",
       "      <td>1252.5</td>\n",
       "      <td>1200.00</td>\n",
       "      <td>1229.09</td>\n",
       "      <td>3125692</td>\n",
       "      <td>384176649890000</td>\n",
       "    </tr>\n",
       "    <tr>\n",
       "      <th>2011-08-08</th>\n",
       "      <td>463.0</td>\n",
       "      <td>480.00</td>\n",
       "      <td>458.05</td>\n",
       "      <td>465.04</td>\n",
       "      <td>4308373</td>\n",
       "      <td>200357861965000</td>\n",
       "      <td>193.90</td>\n",
       "      <td>197.80</td>\n",
       "      <td>189.65</td>\n",
       "      <td>194.89</td>\n",
       "      <td>...</td>\n",
       "      <td>933.40</td>\n",
       "      <td>953.24</td>\n",
       "      <td>3450619</td>\n",
       "      <td>328925252905000</td>\n",
       "      <td>1205.2</td>\n",
       "      <td>1265.8</td>\n",
       "      <td>1200.55</td>\n",
       "      <td>1232.93</td>\n",
       "      <td>1660178</td>\n",
       "      <td>204687918340000</td>\n",
       "    </tr>\n",
       "    <tr>\n",
       "      <th>2011-08-09</th>\n",
       "      <td>450.0</td>\n",
       "      <td>473.55</td>\n",
       "      <td>449.85</td>\n",
       "      <td>460.88</td>\n",
       "      <td>4490924</td>\n",
       "      <td>206978212685000</td>\n",
       "      <td>190.25</td>\n",
       "      <td>202.10</td>\n",
       "      <td>190.10</td>\n",
       "      <td>197.61</td>\n",
       "      <td>...</td>\n",
       "      <td>910.45</td>\n",
       "      <td>938.80</td>\n",
       "      <td>5346085</td>\n",
       "      <td>501890604795000</td>\n",
       "      <td>1190.5</td>\n",
       "      <td>1238.3</td>\n",
       "      <td>1180.90</td>\n",
       "      <td>1206.06</td>\n",
       "      <td>3618186</td>\n",
       "      <td>436376441205000</td>\n",
       "    </tr>\n",
       "    <tr>\n",
       "      <th>2011-08-10</th>\n",
       "      <td>494.8</td>\n",
       "      <td>494.80</td>\n",
       "      <td>473.40</td>\n",
       "      <td>478.06</td>\n",
       "      <td>3267226</td>\n",
       "      <td>156192368225000</td>\n",
       "      <td>202.00</td>\n",
       "      <td>202.85</td>\n",
       "      <td>196.00</td>\n",
       "      <td>199.07</td>\n",
       "      <td>...</td>\n",
       "      <td>957.70</td>\n",
       "      <td>964.75</td>\n",
       "      <td>3379659</td>\n",
       "      <td>326053305165000</td>\n",
       "      <td>1242.0</td>\n",
       "      <td>1253.7</td>\n",
       "      <td>1225.30</td>\n",
       "      <td>1242.10</td>\n",
       "      <td>1903396</td>\n",
       "      <td>236421421150000</td>\n",
       "    </tr>\n",
       "  </tbody>\n",
       "</table>\n",
       "<p>5 rows × 30 columns</p>\n",
       "</div>"
      ],
      "text/plain": [
       "            Open-Stock-1  High-Stock-1  Low-Stock-1  VWAP-Stock-1  \\\n",
       "Date                                                                \n",
       "2011-08-04         484.1        488.90       475.00        481.00   \n",
       "2011-08-05         465.0        475.80       457.10        469.56   \n",
       "2011-08-08         463.0        480.00       458.05        465.04   \n",
       "2011-08-09         450.0        473.55       449.85        460.88   \n",
       "2011-08-10         494.8        494.80       473.40        478.06   \n",
       "\n",
       "            Volume-Stock-1  Turnover-Stock-1  Open-Stock-2  High-Stock-2  \\\n",
       "Date                                                                       \n",
       "2011-08-04         1829606    88003633160000        204.90        206.75   \n",
       "2011-08-05         3156094   148196817355000        195.00        198.00   \n",
       "2011-08-08         4308373   200357861965000        193.90        197.80   \n",
       "2011-08-09         4490924   206978212685000        190.25        202.10   \n",
       "2011-08-10         3267226   156192368225000        202.00        202.85   \n",
       "\n",
       "            Low-Stock-2  VWAP-Stock-2  ...  Low-Stock-4  VWAP-Stock-4  \\\n",
       "Date                                   ...                              \n",
       "2011-08-04       199.20        202.98  ...       990.00       1003.31   \n",
       "2011-08-05       190.50        194.86  ...       950.00        961.50   \n",
       "2011-08-08       189.65        194.89  ...       933.40        953.24   \n",
       "2011-08-09       190.10        197.61  ...       910.45        938.80   \n",
       "2011-08-10       196.00        199.07  ...       957.70        964.75   \n",
       "\n",
       "            Volume-Stock-4  Turnover-Stock-4  Open-Stock-5  High-Stock-5  \\\n",
       "Date                                                                       \n",
       "2011-08-04         2716435   272542181190000        1303.6        1312.8   \n",
       "2011-08-05         4644498   446567961345000        1245.0        1252.5   \n",
       "2011-08-08         3450619   328925252905000        1205.2        1265.8   \n",
       "2011-08-09         5346085   501890604795000        1190.5        1238.3   \n",
       "2011-08-10         3379659   326053305165000        1242.0        1253.7   \n",
       "\n",
       "            Low-Stock-5  VWAP-Stock-5  Volume-Stock-5  Turnover-Stock-5  \n",
       "Date                                                                     \n",
       "2011-08-04      1281.00       1297.04         1569675   203593328285000  \n",
       "2011-08-05      1200.00       1229.09         3125692   384176649890000  \n",
       "2011-08-08      1200.55       1232.93         1660178   204687918340000  \n",
       "2011-08-09      1180.90       1206.06         3618186   436376441205000  \n",
       "2011-08-10      1225.30       1242.10         1903396   236421421150000  \n",
       "\n",
       "[5 rows x 30 columns]"
      ]
     },
     "execution_count": 38,
     "metadata": {},
     "output_type": "execute_result"
    }
   ],
   "source": [
    "test_op.head()"
   ]
  },
  {
   "cell_type": "code",
   "execution_count": 39,
   "metadata": {},
   "outputs": [
    {
     "data": {
      "text/plain": [
       "(97, 30)"
      ]
     },
     "execution_count": 39,
     "metadata": {},
     "output_type": "execute_result"
    }
   ],
   "source": [
    "test_op.shape"
   ]
  },
  {
   "cell_type": "code",
   "execution_count": 40,
   "metadata": {},
   "outputs": [],
   "source": [
    "y =model_1.predict(start= 1,end= 97)"
   ]
  },
  {
   "cell_type": "code",
   "execution_count": 41,
   "metadata": {
    "scrolled": true
   },
   "outputs": [
    {
     "data": {
      "text/plain": [
       "Date\n",
       "2010-06-03   -19.830111\n",
       "2010-06-04   -37.502436\n",
       "2010-06-07    18.195982\n",
       "2010-06-08    -9.400239\n",
       "2010-06-09    14.592903\n",
       "                ...    \n",
       "2010-10-12    56.289121\n",
       "2010-10-13    21.098941\n",
       "2010-10-14   -51.374978\n",
       "2010-10-15    24.775573\n",
       "2010-10-18    41.040733\n",
       "Length: 97, dtype: float64"
      ]
     },
     "execution_count": 41,
     "metadata": {},
     "output_type": "execute_result"
    }
   ],
   "source": [
    "y"
   ]
  },
  {
   "cell_type": "code",
   "execution_count": 42,
   "metadata": {},
   "outputs": [
    {
     "data": {
      "text/plain": [
       "(97,)"
      ]
     },
     "execution_count": 42,
     "metadata": {},
     "output_type": "execute_result"
    }
   ],
   "source": [
    "y.shape"
   ]
  },
  {
   "cell_type": "code",
   "execution_count": 43,
   "metadata": {},
   "outputs": [],
   "source": [
    "output = pd.DataFrame(y)\n",
    "output.to_csv('Stock1.csv', index=False)"
   ]
  }
 ],
 "metadata": {
  "kernelspec": {
   "display_name": "Python 3",
   "language": "python",
   "name": "python3"
  },
  "language_info": {
   "codemirror_mode": {
    "name": "ipython",
    "version": 3
   },
   "file_extension": ".py",
   "mimetype": "text/x-python",
   "name": "python",
   "nbconvert_exporter": "python",
   "pygments_lexer": "ipython3",
   "version": "3.7.6"
  }
 },
 "nbformat": 4,
 "nbformat_minor": 4
}
