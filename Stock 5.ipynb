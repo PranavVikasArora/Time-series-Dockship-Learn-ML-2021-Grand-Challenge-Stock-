{
 "cells": [
  {
   "cell_type": "code",
   "execution_count": 1,
   "metadata": {},
   "outputs": [],
   "source": [
    "import pandas as pd\n",
    "import numpy as np\n",
    "import matplotlib.pyplot as plt\n",
    "import seaborn as sns"
   ]
  },
  {
   "cell_type": "code",
   "execution_count": 2,
   "metadata": {},
   "outputs": [],
   "source": [
    "train = pd.read_csv(\"new_train.csv\",index_col = 'Date', parse_dates = True)"
   ]
  },
  {
   "cell_type": "code",
   "execution_count": 3,
   "metadata": {},
   "outputs": [
    {
     "data": {
      "text/html": [
       "<div>\n",
       "<style scoped>\n",
       "    .dataframe tbody tr th:only-of-type {\n",
       "        vertical-align: middle;\n",
       "    }\n",
       "\n",
       "    .dataframe tbody tr th {\n",
       "        vertical-align: top;\n",
       "    }\n",
       "\n",
       "    .dataframe thead th {\n",
       "        text-align: right;\n",
       "    }\n",
       "</style>\n",
       "<table border=\"1\" class=\"dataframe\">\n",
       "  <thead>\n",
       "    <tr style=\"text-align: right;\">\n",
       "      <th></th>\n",
       "      <th>Open-Stock-1</th>\n",
       "      <th>High-Stock-1</th>\n",
       "      <th>Low-Stock-1</th>\n",
       "      <th>Close-Stock-1</th>\n",
       "      <th>VWAP-Stock-1</th>\n",
       "      <th>Volume-Stock-1</th>\n",
       "      <th>Turnover-Stock-1</th>\n",
       "      <th>Open-Stock-2</th>\n",
       "      <th>High-Stock-2</th>\n",
       "      <th>Low-Stock-2</th>\n",
       "      <th>...</th>\n",
       "      <th>VWAP-Stock-4</th>\n",
       "      <th>Volume-Stock-4</th>\n",
       "      <th>Turnover-Stock-4</th>\n",
       "      <th>Open-Stock-5</th>\n",
       "      <th>High-Stock-5</th>\n",
       "      <th>Low-Stock-5</th>\n",
       "      <th>Close-Stock-5</th>\n",
       "      <th>VWAP-Stock-5</th>\n",
       "      <th>Volume-Stock-5</th>\n",
       "      <th>Turnover-Stock-5</th>\n",
       "    </tr>\n",
       "    <tr>\n",
       "      <th>Date</th>\n",
       "      <th></th>\n",
       "      <th></th>\n",
       "      <th></th>\n",
       "      <th></th>\n",
       "      <th></th>\n",
       "      <th></th>\n",
       "      <th></th>\n",
       "      <th></th>\n",
       "      <th></th>\n",
       "      <th></th>\n",
       "      <th></th>\n",
       "      <th></th>\n",
       "      <th></th>\n",
       "      <th></th>\n",
       "      <th></th>\n",
       "      <th></th>\n",
       "      <th></th>\n",
       "      <th></th>\n",
       "      <th></th>\n",
       "      <th></th>\n",
       "      <th></th>\n",
       "    </tr>\n",
       "  </thead>\n",
       "  <tbody>\n",
       "    <tr>\n",
       "      <th>2010-06-01</th>\n",
       "      <td>1889.7</td>\n",
       "      <td>1890.00</td>\n",
       "      <td>1838.00</td>\n",
       "      <td>1855.10</td>\n",
       "      <td>1855.75</td>\n",
       "      <td>568273</td>\n",
       "      <td>105457457545000</td>\n",
       "      <td>285.40</td>\n",
       "      <td>285.95</td>\n",
       "      <td>281.50</td>\n",
       "      <td>...</td>\n",
       "      <td>844.44</td>\n",
       "      <td>3878011</td>\n",
       "      <td>327474904340000</td>\n",
       "      <td>1235.0</td>\n",
       "      <td>1238.00</td>\n",
       "      <td>1177.0</td>\n",
       "      <td>1181.70</td>\n",
       "      <td>1197.29</td>\n",
       "      <td>1786082</td>\n",
       "      <td>213845404410000</td>\n",
       "    </tr>\n",
       "    <tr>\n",
       "      <th>2010-06-02</th>\n",
       "      <td>1848.0</td>\n",
       "      <td>1862.75</td>\n",
       "      <td>1828.00</td>\n",
       "      <td>1853.05</td>\n",
       "      <td>1842.82</td>\n",
       "      <td>945167</td>\n",
       "      <td>174177161135000</td>\n",
       "      <td>284.00</td>\n",
       "      <td>284.80</td>\n",
       "      <td>279.25</td>\n",
       "      <td>...</td>\n",
       "      <td>838.31</td>\n",
       "      <td>3320996</td>\n",
       "      <td>278403743240000</td>\n",
       "      <td>1195.0</td>\n",
       "      <td>1206.95</td>\n",
       "      <td>1168.5</td>\n",
       "      <td>1201.15</td>\n",
       "      <td>1189.87</td>\n",
       "      <td>1307410</td>\n",
       "      <td>155564994855000</td>\n",
       "    </tr>\n",
       "    <tr>\n",
       "      <th>2010-06-03</th>\n",
       "      <td>1864.1</td>\n",
       "      <td>1910.00</td>\n",
       "      <td>1864.10</td>\n",
       "      <td>1905.60</td>\n",
       "      <td>1893.91</td>\n",
       "      <td>679689</td>\n",
       "      <td>128727119355000</td>\n",
       "      <td>283.00</td>\n",
       "      <td>286.85</td>\n",
       "      <td>282.50</td>\n",
       "      <td>...</td>\n",
       "      <td>853.51</td>\n",
       "      <td>2494522</td>\n",
       "      <td>212910342645000</td>\n",
       "      <td>1211.0</td>\n",
       "      <td>1248.00</td>\n",
       "      <td>1211.0</td>\n",
       "      <td>1242.30</td>\n",
       "      <td>1231.63</td>\n",
       "      <td>1482919</td>\n",
       "      <td>182640434320000</td>\n",
       "    </tr>\n",
       "    <tr>\n",
       "      <th>2010-06-04</th>\n",
       "      <td>1906.0</td>\n",
       "      <td>1909.80</td>\n",
       "      <td>1880.10</td>\n",
       "      <td>1885.70</td>\n",
       "      <td>1889.21</td>\n",
       "      <td>509435</td>\n",
       "      <td>96242800140000</td>\n",
       "      <td>288.85</td>\n",
       "      <td>291.80</td>\n",
       "      <td>277.00</td>\n",
       "      <td>...</td>\n",
       "      <td>862.85</td>\n",
       "      <td>2963920</td>\n",
       "      <td>255740999120000</td>\n",
       "      <td>1240.0</td>\n",
       "      <td>1258.00</td>\n",
       "      <td>1240.0</td>\n",
       "      <td>1245.45</td>\n",
       "      <td>1249.72</td>\n",
       "      <td>1454459</td>\n",
       "      <td>181767075850000</td>\n",
       "    </tr>\n",
       "    <tr>\n",
       "      <th>2010-06-07</th>\n",
       "      <td>1867.0</td>\n",
       "      <td>1894.85</td>\n",
       "      <td>1808.35</td>\n",
       "      <td>1876.65</td>\n",
       "      <td>1873.32</td>\n",
       "      <td>961913</td>\n",
       "      <td>180196832650000</td>\n",
       "      <td>285.00</td>\n",
       "      <td>289.10</td>\n",
       "      <td>285.00</td>\n",
       "      <td>...</td>\n",
       "      <td>839.89</td>\n",
       "      <td>3471483</td>\n",
       "      <td>291567400640000</td>\n",
       "      <td>1218.6</td>\n",
       "      <td>1225.00</td>\n",
       "      <td>1196.0</td>\n",
       "      <td>1214.80</td>\n",
       "      <td>1209.27</td>\n",
       "      <td>1424594</td>\n",
       "      <td>172272511430000</td>\n",
       "    </tr>\n",
       "  </tbody>\n",
       "</table>\n",
       "<p>5 rows × 35 columns</p>\n",
       "</div>"
      ],
      "text/plain": [
       "            Open-Stock-1  High-Stock-1  Low-Stock-1  Close-Stock-1  \\\n",
       "Date                                                                 \n",
       "2010-06-01        1889.7       1890.00      1838.00        1855.10   \n",
       "2010-06-02        1848.0       1862.75      1828.00        1853.05   \n",
       "2010-06-03        1864.1       1910.00      1864.10        1905.60   \n",
       "2010-06-04        1906.0       1909.80      1880.10        1885.70   \n",
       "2010-06-07        1867.0       1894.85      1808.35        1876.65   \n",
       "\n",
       "            VWAP-Stock-1  Volume-Stock-1  Turnover-Stock-1  Open-Stock-2  \\\n",
       "Date                                                                       \n",
       "2010-06-01       1855.75          568273   105457457545000        285.40   \n",
       "2010-06-02       1842.82          945167   174177161135000        284.00   \n",
       "2010-06-03       1893.91          679689   128727119355000        283.00   \n",
       "2010-06-04       1889.21          509435    96242800140000        288.85   \n",
       "2010-06-07       1873.32          961913   180196832650000        285.00   \n",
       "\n",
       "            High-Stock-2  Low-Stock-2  ...  VWAP-Stock-4  Volume-Stock-4  \\\n",
       "Date                                   ...                                 \n",
       "2010-06-01        285.95       281.50  ...        844.44         3878011   \n",
       "2010-06-02        284.80       279.25  ...        838.31         3320996   \n",
       "2010-06-03        286.85       282.50  ...        853.51         2494522   \n",
       "2010-06-04        291.80       277.00  ...        862.85         2963920   \n",
       "2010-06-07        289.10       285.00  ...        839.89         3471483   \n",
       "\n",
       "            Turnover-Stock-4  Open-Stock-5  High-Stock-5  Low-Stock-5  \\\n",
       "Date                                                                    \n",
       "2010-06-01   327474904340000        1235.0       1238.00       1177.0   \n",
       "2010-06-02   278403743240000        1195.0       1206.95       1168.5   \n",
       "2010-06-03   212910342645000        1211.0       1248.00       1211.0   \n",
       "2010-06-04   255740999120000        1240.0       1258.00       1240.0   \n",
       "2010-06-07   291567400640000        1218.6       1225.00       1196.0   \n",
       "\n",
       "            Close-Stock-5  VWAP-Stock-5  Volume-Stock-5  Turnover-Stock-5  \n",
       "Date                                                                       \n",
       "2010-06-01        1181.70       1197.29         1786082   213845404410000  \n",
       "2010-06-02        1201.15       1189.87         1307410   155564994855000  \n",
       "2010-06-03        1242.30       1231.63         1482919   182640434320000  \n",
       "2010-06-04        1245.45       1249.72         1454459   181767075850000  \n",
       "2010-06-07        1214.80       1209.27         1424594   172272511430000  \n",
       "\n",
       "[5 rows x 35 columns]"
      ]
     },
     "execution_count": 3,
     "metadata": {},
     "output_type": "execute_result"
    }
   ],
   "source": [
    "train.head()"
   ]
  },
  {
   "cell_type": "code",
   "execution_count": 4,
   "metadata": {},
   "outputs": [
    {
     "data": {
      "text/plain": [
       "Open-Stock-1        0\n",
       "High-Stock-1        0\n",
       "Low-Stock-1         0\n",
       "Close-Stock-1       0\n",
       "VWAP-Stock-1        0\n",
       "Volume-Stock-1      0\n",
       "Turnover-Stock-1    0\n",
       "Open-Stock-2        0\n",
       "High-Stock-2        0\n",
       "Low-Stock-2         0\n",
       "Close-Stock-2       0\n",
       "VWAP-Stock-2        0\n",
       "Volume-Stock-2      0\n",
       "Turnover-Stock-2    0\n",
       "Open-Stock-3        0\n",
       "High-Stock-3        0\n",
       "Low-Stock-3         0\n",
       "Close-Stock-3       0\n",
       "VWAP-Stock-3        0\n",
       "Volume-Stock-3      0\n",
       "Turnover-Stock-3    0\n",
       "Open-Stock-4        0\n",
       "High-Stock-4        0\n",
       "Low-Stock-4         0\n",
       "Close-Stock-4       0\n",
       "VWAP-Stock-4        0\n",
       "Volume-Stock-4      0\n",
       "Turnover-Stock-4    0\n",
       "Open-Stock-5        0\n",
       "High-Stock-5        0\n",
       "Low-Stock-5         0\n",
       "Close-Stock-5       0\n",
       "VWAP-Stock-5        0\n",
       "Volume-Stock-5      0\n",
       "Turnover-Stock-5    0\n",
       "dtype: int64"
      ]
     },
     "execution_count": 4,
     "metadata": {},
     "output_type": "execute_result"
    }
   ],
   "source": [
    "train.isna().sum()"
   ]
  },
  {
   "cell_type": "code",
   "execution_count": 5,
   "metadata": {},
   "outputs": [],
   "source": [
    "train['diff_5'] = train['Close-Stock-5'] - train['Open-Stock-5']"
   ]
  },
  {
   "cell_type": "code",
   "execution_count": 6,
   "metadata": {},
   "outputs": [
    {
     "data": {
      "text/plain": [
       "<matplotlib.axes._subplots.AxesSubplot at 0x1906c7a7248>"
      ]
     },
     "execution_count": 6,
     "metadata": {},
     "output_type": "execute_result"
    },
    {
     "data": {
      "image/png": "[encoded data removed]",
      "text/plain": [
       "<Figure size 432x288 with 1 Axes>"
      ]
     },
     "metadata": {
      "needs_background": "light"
     },
     "output_type": "display_data"
    }
   ],
   "source": [
    "train['Close-Stock-5'].plot()"
   ]
  },
  {
   "cell_type": "code",
   "execution_count": 7,
   "metadata": {},
   "outputs": [
    {
     "data": {
      "text/plain": [
       "<matplotlib.axes._subplots.AxesSubplot at 0x1906cf10dc8>"
      ]
     },
     "execution_count": 7,
     "metadata": {},
     "output_type": "execute_result"
    },
    {
     "data": {
      "image/png": "[encoded data removed]",
      "text/plain": [
       "<Figure size 432x288 with 1 Axes>"
      ]
     },
     "metadata": {
      "needs_background": "light"
     },
     "output_type": "display_data"
    }
   ],
   "source": [
    "train['diff_5'].plot()"
   ]
  },
  {
   "cell_type": "code",
   "execution_count": 8,
   "metadata": {},
   "outputs": [
    {
     "name": "stdout",
     "output_type": "stream",
     "text": [
      "1. ADF :  -2.605092021102999\n",
      "2. P-Value :  0.09194941059952189\n",
      "3. Num Of Lags :  1\n",
      "4. Num Of Observations Used For ADF Regression: 297\n",
      "5. Critical Values :\n",
      "\t 1% :  -3.4525611751768914\n",
      "\t 5% :  -2.87132117782556\n",
      "\t 10% :  -2.5719816428028888\n"
     ]
    }
   ],
   "source": [
    "from statsmodels.tsa.stattools import adfuller\n",
    "def ad_test(dataset):\n",
    "     dftest = adfuller(dataset, autolag = 'AIC')\n",
    "     print(\"1. ADF : \",dftest[0])\n",
    "     print(\"2. P-Value : \", dftest[1])\n",
    "     print(\"3. Num Of Lags : \", dftest[2])\n",
    "     print(\"4. Num Of Observations Used For ADF Regression:\",      dftest[3])\n",
    "     print(\"5. Critical Values :\")\n",
    "     for key, val in dftest[4].items():\n",
    "         print(\"\\t\",key, \": \", val)\n",
    "ad_test(train['Close-Stock-5'])"
   ]
  },
  {
   "cell_type": "code",
   "execution_count": 9,
   "metadata": {},
   "outputs": [
    {
     "name": "stdout",
     "output_type": "stream",
     "text": [
      "1. ADF :  -15.518335773666402\n",
      "2. P-Value :  2.300776287451676e-28\n",
      "3. Num Of Lags :  0\n",
      "4. Num Of Observations Used For ADF Regression: 298\n",
      "5. Critical Values :\n",
      "\t 1% :  -3.4524859843440754\n",
      "\t 5% :  -2.871288184343229\n",
      "\t 10% :  -2.571964047565425\n"
     ]
    }
   ],
   "source": [
    "ad_test(train['diff_5'])"
   ]
  },
  {
   "cell_type": "code",
   "execution_count": 10,
   "metadata": {},
   "outputs": [],
   "source": [
    "#P value not less than 0.05 hence the dataset is not stationary "
   ]
  },
  {
   "cell_type": "code",
   "execution_count": 11,
   "metadata": {},
   "outputs": [],
   "source": [
    "train['Close-Stock-5'] = train['Close-Stock-5'].diff()"
   ]
  },
  {
   "cell_type": "code",
   "execution_count": 12,
   "metadata": {},
   "outputs": [
    {
     "data": {
      "text/plain": [
       "Date\n",
       "2010-06-01      NaN\n",
       "2010-06-02    19.45\n",
       "2010-06-03    41.15\n",
       "2010-06-04     3.15\n",
       "2010-06-07   -30.65\n",
       "              ...  \n",
       "2011-07-28     1.00\n",
       "2011-07-29    36.00\n",
       "2011-08-01    15.50\n",
       "2011-08-02   -10.20\n",
       "2011-08-03   -41.65\n",
       "Name: Close-Stock-5, Length: 299, dtype: float64"
      ]
     },
     "execution_count": 12,
     "metadata": {},
     "output_type": "execute_result"
    }
   ],
   "source": [
    "train['Close-Stock-5']"
   ]
  },
  {
   "cell_type": "code",
   "execution_count": 13,
   "metadata": {},
   "outputs": [],
   "source": [
    "train = train.dropna()"
   ]
  },
  {
   "cell_type": "code",
   "execution_count": 14,
   "metadata": {},
   "outputs": [
    {
     "data": {
      "text/plain": [
       "Date\n",
       "2010-06-02    19.45\n",
       "2010-06-03    41.15\n",
       "2010-06-04     3.15\n",
       "2010-06-07   -30.65\n",
       "2010-06-08    11.40\n",
       "              ...  \n",
       "2011-07-28     1.00\n",
       "2011-07-29    36.00\n",
       "2011-08-01    15.50\n",
       "2011-08-02   -10.20\n",
       "2011-08-03   -41.65\n",
       "Name: Close-Stock-5, Length: 298, dtype: float64"
      ]
     },
     "execution_count": 14,
     "metadata": {},
     "output_type": "execute_result"
    }
   ],
   "source": [
    "train['Close-Stock-5']"
   ]
  },
  {
   "cell_type": "code",
   "execution_count": 15,
   "metadata": {},
   "outputs": [
    {
     "name": "stdout",
     "output_type": "stream",
     "text": [
      "1. ADF :  -11.130623492849638\n",
      "2. P-Value :  3.2891814652909663e-20\n",
      "3. Num Of Lags :  2\n",
      "4. Num Of Observations Used For ADF Regression: 295\n",
      "5. Critical Values :\n",
      "\t 1% :  -3.452713099849546\n",
      "\t 5% :  -2.871387839457783\n",
      "\t 10% :  -2.5720171933352485\n"
     ]
    }
   ],
   "source": [
    "ad_test(train['Close-Stock-5'])"
   ]
  },
  {
   "cell_type": "code",
   "execution_count": 16,
   "metadata": {},
   "outputs": [
    {
     "data": {
      "text/plain": [
       "<matplotlib.axes._subplots.AxesSubplot at 0x1906d328188>"
      ]
     },
     "execution_count": 16,
     "metadata": {},
     "output_type": "execute_result"
    },
    {
     "data": {
      "image/png": "[encoded data removed]",
      "text/plain": [
       "<Figure size 432x288 with 1 Axes>"
      ]
     },
     "metadata": {
      "needs_background": "light"
     },
     "output_type": "display_data"
    }
   ],
   "source": [
    "train['Close-Stock-5'].plot()"
   ]
  },
  {
   "cell_type": "code",
   "execution_count": 17,
   "metadata": {},
   "outputs": [
    {
     "data": {
      "text/plain": [
       "<matplotlib.axes._subplots.AxesSubplot at 0x190716926c8>"
      ]
     },
     "execution_count": 17,
     "metadata": {},
     "output_type": "execute_result"
    },
    {
     "data": {
      "image/png": "[encoded data removed]",
      "text/plain": [
       "<Figure size 432x288 with 1 Axes>"
      ]
     },
     "metadata": {
      "needs_background": "light"
     },
     "output_type": "display_data"
    }
   ],
   "source": [
    "train['diff_5'].plot()"
   ]
  },
  {
   "cell_type": "code",
   "execution_count": 18,
   "metadata": {},
   "outputs": [],
   "source": [
    "from pmdarima import auto_arima"
   ]
  },
  {
   "cell_type": "code",
   "execution_count": 19,
   "metadata": {},
   "outputs": [
    {
     "name": "stdout",
     "output_type": "stream",
     "text": [
      "Performing stepwise search to minimize aic\n",
      " ARIMA(2,0,2)(0,0,0)[0] intercept   : AIC=2778.781, Time=1.16 sec\n",
      " ARIMA(0,0,0)(0,0,0)[0] intercept   : AIC=2783.740, Time=0.02 sec\n",
      " ARIMA(1,0,0)(0,0,0)[0] intercept   : AIC=2783.954, Time=0.06 sec\n",
      " ARIMA(0,0,1)(0,0,0)[0] intercept   : AIC=2783.872, Time=0.09 sec\n",
      " ARIMA(0,0,0)(0,0,0)[0]             : AIC=2781.813, Time=0.00 sec\n",
      " ARIMA(1,0,2)(0,0,0)[0] intercept   : AIC=2784.776, Time=0.26 sec\n",
      " ARIMA(2,0,1)(0,0,0)[0] intercept   : AIC=2785.141, Time=0.24 sec\n",
      " ARIMA(3,0,2)(0,0,0)[0] intercept   : AIC=2784.950, Time=0.35 sec\n",
      " ARIMA(2,0,3)(0,0,0)[0] intercept   : AIC=2780.696, Time=0.79 sec\n",
      " ARIMA(1,0,1)(0,0,0)[0] intercept   : AIC=2785.867, Time=0.30 sec\n",
      " ARIMA(1,0,3)(0,0,0)[0] intercept   : AIC=2781.466, Time=0.66 sec\n",
      " ARIMA(3,0,1)(0,0,0)[0] intercept   : AIC=2783.070, Time=0.34 sec\n",
      " ARIMA(3,0,3)(0,0,0)[0] intercept   : AIC=2780.906, Time=0.43 sec\n",
      " ARIMA(2,0,2)(0,0,0)[0]             : AIC=2776.845, Time=0.17 sec\n",
      " ARIMA(1,0,2)(0,0,0)[0]             : AIC=2782.831, Time=0.12 sec\n",
      " ARIMA(2,0,1)(0,0,0)[0]             : AIC=2783.231, Time=0.11 sec\n",
      " ARIMA(3,0,2)(0,0,0)[0]             : AIC=2783.032, Time=0.17 sec\n",
      " ARIMA(2,0,3)(0,0,0)[0]             : AIC=2778.754, Time=0.27 sec\n",
      " ARIMA(1,0,1)(0,0,0)[0]             : AIC=2783.928, Time=0.12 sec\n",
      " ARIMA(1,0,3)(0,0,0)[0]             : AIC=2779.544, Time=0.24 sec\n",
      " ARIMA(3,0,1)(0,0,0)[0]             : AIC=2781.144, Time=0.27 sec\n",
      " ARIMA(3,0,3)(0,0,0)[0]             : AIC=2779.001, Time=0.40 sec\n",
      "\n",
      "Best model:  ARIMA(2,0,2)(0,0,0)[0]          \n",
      "Total fit time: 6.727 seconds\n"
     ]
    }
   ],
   "source": [
    "#Auto arima is going to try diff values for the orders like (0,0,0), (0,0,1) and so on and return the best set of values for orders\n",
    "stepwise_fit = auto_arima(train['Close-Stock-5'] , trace  = True)"
   ]
  },
  {
   "cell_type": "code",
   "execution_count": 20,
   "metadata": {},
   "outputs": [
    {
     "name": "stdout",
     "output_type": "stream",
     "text": [
      "Performing stepwise search to minimize aic\n",
      " ARIMA(2,0,2)(0,0,0)[0] intercept   : AIC=2782.338, Time=0.60 sec\n",
      " ARIMA(0,0,0)(0,0,0)[0] intercept   : AIC=2779.407, Time=0.00 sec\n",
      " ARIMA(1,0,0)(0,0,0)[0] intercept   : AIC=2777.726, Time=0.06 sec\n",
      " ARIMA(0,0,1)(0,0,0)[0] intercept   : AIC=2777.307, Time=0.08 sec\n",
      " ARIMA(0,0,0)(0,0,0)[0]             : AIC=2778.016, Time=0.00 sec\n",
      " ARIMA(1,0,1)(0,0,0)[0] intercept   : AIC=2778.940, Time=0.19 sec\n",
      " ARIMA(0,0,2)(0,0,0)[0] intercept   : AIC=2778.772, Time=0.14 sec\n",
      " ARIMA(1,0,2)(0,0,0)[0] intercept   : AIC=2780.382, Time=0.26 sec\n",
      " ARIMA(0,0,1)(0,0,0)[0]             : AIC=2775.806, Time=0.02 sec\n",
      " ARIMA(1,0,1)(0,0,0)[0]             : AIC=2777.463, Time=0.06 sec\n",
      " ARIMA(0,0,2)(0,0,0)[0]             : AIC=2777.319, Time=0.05 sec\n",
      " ARIMA(1,0,0)(0,0,0)[0]             : AIC=2776.220, Time=0.03 sec\n",
      " ARIMA(1,0,2)(0,0,0)[0]             : AIC=2778.999, Time=0.10 sec\n",
      "\n",
      "Best model:  ARIMA(0,0,1)(0,0,0)[0]          \n",
      "Total fit time: 1.640 seconds\n"
     ]
    }
   ],
   "source": [
    "stepwise_fit = auto_arima(train['diff_5'] , trace  = True)"
   ]
  },
  {
   "cell_type": "code",
   "execution_count": 21,
   "metadata": {},
   "outputs": [],
   "source": [
    "#Goal is to minimise AIC"
   ]
  },
  {
   "cell_type": "code",
   "execution_count": 22,
   "metadata": {},
   "outputs": [],
   "source": [
    "from statsmodels.tsa.arima_model import ARIMA"
   ]
  },
  {
   "cell_type": "code",
   "execution_count": 23,
   "metadata": {},
   "outputs": [
    {
     "data": {
      "text/plain": [
       "(298, 36)"
      ]
     },
     "execution_count": 23,
     "metadata": {},
     "output_type": "execute_result"
    }
   ],
   "source": [
    "train.shape"
   ]
  },
  {
   "cell_type": "code",
   "execution_count": 24,
   "metadata": {},
   "outputs": [
    {
     "name": "stdout",
     "output_type": "stream",
     "text": [
      "(268, 36) (30, 36)\n"
     ]
    }
   ],
   "source": [
    "train_model = train.iloc[:-30]\n",
    "test_model = train.iloc[-30:]\n",
    "print(train_model.shape, test_model.shape)"
   ]
  },
  {
   "cell_type": "code",
   "execution_count": 25,
   "metadata": {},
   "outputs": [
    {
     "name": "stderr",
     "output_type": "stream",
     "text": [
      "C:\\Users\\prana\\anaconda3\\lib\\site-packages\\statsmodels\\tsa\\base\\tsa_model.py:218: ValueWarning: A date index has been provided, but it has no associated frequency information and so will be ignored when e.g. forecasting.\n",
      "  ' ignored when e.g. forecasting.', ValueWarning)\n"
     ]
    },
    {
     "data": {
      "text/html": [
       "<table class=\"simpletable\">\n",
       "<caption>ARMA Model Results</caption>\n",
       "<tr>\n",
       "  <th>Dep. Variable:</th>   <td>Close-Stock-5</td>  <th>  No. Observations:  </th>    <td>268</td>   \n",
       "</tr>\n",
       "<tr>\n",
       "  <th>Model:</th>            <td>ARMA(2, 2)</td>    <th>  Log Likelihood     </th> <td>-1246.499</td>\n",
       "</tr>\n",
       "<tr>\n",
       "  <th>Method:</th>             <td>css-mle</td>     <th>  S.D. of innovations</th>  <td>25.322</td>  \n",
       "</tr>\n",
       "<tr>\n",
       "  <th>Date:</th>          <td>Sun, 10 Jan 2021</td> <th>  AIC                </th> <td>2504.997</td> \n",
       "</tr>\n",
       "<tr>\n",
       "  <th>Time:</th>              <td>21:14:29</td>     <th>  BIC                </th> <td>2526.543</td> \n",
       "</tr>\n",
       "<tr>\n",
       "  <th>Sample:</th>                <td>0</td>        <th>  HQIC               </th> <td>2513.651</td> \n",
       "</tr>\n",
       "<tr>\n",
       "  <th></th>                       <td> </td>        <th>                     </th>     <td> </td>    \n",
       "</tr>\n",
       "</table>\n",
       "<table class=\"simpletable\">\n",
       "<tr>\n",
       "           <td></td>              <th>coef</th>     <th>std err</th>      <th>z</th>      <th>P>|z|</th>  <th>[0.025</th>    <th>0.975]</th>  \n",
       "</tr>\n",
       "<tr>\n",
       "  <th>const</th>               <td>    0.2772</td> <td>    1.693</td> <td>    0.164</td> <td> 0.870</td> <td>   -3.040</td> <td>    3.595</td>\n",
       "</tr>\n",
       "<tr>\n",
       "  <th>ar.L1.Close-Stock-5</th> <td>   -1.1846</td> <td>    0.120</td> <td>   -9.838</td> <td> 0.000</td> <td>   -1.421</td> <td>   -0.949</td>\n",
       "</tr>\n",
       "<tr>\n",
       "  <th>ar.L2.Close-Stock-5</th> <td>   -0.6636</td> <td>    0.133</td> <td>   -5.005</td> <td> 0.000</td> <td>   -0.923</td> <td>   -0.404</td>\n",
       "</tr>\n",
       "<tr>\n",
       "  <th>ma.L1.Close-Stock-5</th> <td>    1.2921</td> <td>    0.090</td> <td>   14.297</td> <td> 0.000</td> <td>    1.115</td> <td>    1.469</td>\n",
       "</tr>\n",
       "<tr>\n",
       "  <th>ma.L2.Close-Stock-5</th> <td>    0.8253</td> <td>    0.104</td> <td>    7.933</td> <td> 0.000</td> <td>    0.621</td> <td>    1.029</td>\n",
       "</tr>\n",
       "</table>\n",
       "<table class=\"simpletable\">\n",
       "<caption>Roots</caption>\n",
       "<tr>\n",
       "    <td></td>   <th>            Real</th>  <th>         Imaginary</th> <th>         Modulus</th>  <th>        Frequency</th>\n",
       "</tr>\n",
       "<tr>\n",
       "  <th>AR.1</th> <td>          -0.8926</td> <td>          -0.8427j</td> <td>           1.2276</td> <td>          -0.3796</td>\n",
       "</tr>\n",
       "<tr>\n",
       "  <th>AR.2</th> <td>          -0.8926</td> <td>          +0.8427j</td> <td>           1.2276</td> <td>           0.3796</td>\n",
       "</tr>\n",
       "<tr>\n",
       "  <th>MA.1</th> <td>          -0.7828</td> <td>          -0.7739j</td> <td>           1.1008</td> <td>          -0.3759</td>\n",
       "</tr>\n",
       "<tr>\n",
       "  <th>MA.2</th> <td>          -0.7828</td> <td>          +0.7739j</td> <td>           1.1008</td> <td>           0.3759</td>\n",
       "</tr>\n",
       "</table>"
      ],
      "text/plain": [
       "<class 'statsmodels.iolib.summary.Summary'>\n",
       "\"\"\"\n",
       "                              ARMA Model Results                              \n",
       "==============================================================================\n",
       "Dep. Variable:          Close-Stock-5   No. Observations:                  268\n",
       "Model:                     ARMA(2, 2)   Log Likelihood               -1246.499\n",
       "Method:                       css-mle   S.D. of innovations             25.322\n",
       "Date:                Sun, 10 Jan 2021   AIC                           2504.997\n",
       "Time:                        21:14:29   BIC                           2526.543\n",
       "Sample:                             0   HQIC                          2513.651\n",
       "                                                                              \n",
       "=======================================================================================\n",
       "                          coef    std err          z      P>|z|      [0.025      0.975]\n",
       "---------------------------------------------------------------------------------------\n",
       "const                   0.2772      1.693      0.164      0.870      -3.040       3.595\n",
       "ar.L1.Close-Stock-5    -1.1846      0.120     -9.838      0.000      -1.421      -0.949\n",
       "ar.L2.Close-Stock-5    -0.6636      0.133     -5.005      0.000      -0.923      -0.404\n",
       "ma.L1.Close-Stock-5     1.2921      0.090     14.297      0.000       1.115       1.469\n",
       "ma.L2.Close-Stock-5     0.8253      0.104      7.933      0.000       0.621       1.029\n",
       "                                    Roots                                    \n",
       "=============================================================================\n",
       "                  Real          Imaginary           Modulus         Frequency\n",
       "-----------------------------------------------------------------------------\n",
       "AR.1           -0.8926           -0.8427j            1.2276           -0.3796\n",
       "AR.2           -0.8926           +0.8427j            1.2276            0.3796\n",
       "MA.1           -0.7828           -0.7739j            1.1008           -0.3759\n",
       "MA.2           -0.7828           +0.7739j            1.1008            0.3759\n",
       "-----------------------------------------------------------------------------\n",
       "\"\"\""
      ]
     },
     "execution_count": 25,
     "metadata": {},
     "output_type": "execute_result"
    }
   ],
   "source": [
    "model = ARIMA(train_model['Close-Stock-5'], order = (2,0,2))\n",
    "model = model.fit()\n",
    "model.summary()"
   ]
  },
  {
   "cell_type": "code",
   "execution_count": 26,
   "metadata": {},
   "outputs": [
    {
     "name": "stderr",
     "output_type": "stream",
     "text": [
      "C:\\Users\\prana\\anaconda3\\lib\\site-packages\\statsmodels\\tsa\\base\\tsa_model.py:218: ValueWarning: A date index has been provided, but it has no associated frequency information and so will be ignored when e.g. forecasting.\n",
      "  ' ignored when e.g. forecasting.', ValueWarning)\n"
     ]
    },
    {
     "data": {
      "text/html": [
       "<table class=\"simpletable\">\n",
       "<caption>ARMA Model Results</caption>\n",
       "<tr>\n",
       "  <th>Dep. Variable:</th>      <td>diff_5</td>      <th>  No. Observations:  </th>    <td>268</td>   \n",
       "</tr>\n",
       "<tr>\n",
       "  <th>Model:</th>            <td>ARMA(0, 1)</td>    <th>  Log Likelihood     </th> <td>-1250.008</td>\n",
       "</tr>\n",
       "<tr>\n",
       "  <th>Method:</th>             <td>css-mle</td>     <th>  S.D. of innovations</th>  <td>25.668</td>  \n",
       "</tr>\n",
       "<tr>\n",
       "  <th>Date:</th>          <td>Sun, 10 Jan 2021</td> <th>  AIC                </th> <td>2506.016</td> \n",
       "</tr>\n",
       "<tr>\n",
       "  <th>Time:</th>              <td>21:14:29</td>     <th>  BIC                </th> <td>2516.789</td> \n",
       "</tr>\n",
       "<tr>\n",
       "  <th>Sample:</th>                <td>0</td>        <th>  HQIC               </th> <td>2510.343</td> \n",
       "</tr>\n",
       "<tr>\n",
       "  <th></th>                       <td> </td>        <th>                     </th>     <td> </td>    \n",
       "</tr>\n",
       "</table>\n",
       "<table class=\"simpletable\">\n",
       "<tr>\n",
       "        <td></td>          <th>coef</th>     <th>std err</th>      <th>z</th>      <th>P>|z|</th>  <th>[0.025</th>    <th>0.975]</th>  \n",
       "</tr>\n",
       "<tr>\n",
       "  <th>const</th>        <td>   -1.3292</td> <td>    1.742</td> <td>   -0.763</td> <td> 0.445</td> <td>   -4.743</td> <td>    2.085</td>\n",
       "</tr>\n",
       "<tr>\n",
       "  <th>ma.L1.diff_5</th> <td>    0.1113</td> <td>    0.061</td> <td>    1.819</td> <td> 0.069</td> <td>   -0.009</td> <td>    0.231</td>\n",
       "</tr>\n",
       "</table>\n",
       "<table class=\"simpletable\">\n",
       "<caption>Roots</caption>\n",
       "<tr>\n",
       "    <td></td>   <th>            Real</th>  <th>         Imaginary</th> <th>         Modulus</th>  <th>        Frequency</th>\n",
       "</tr>\n",
       "<tr>\n",
       "  <th>MA.1</th> <td>          -8.9845</td> <td>          +0.0000j</td> <td>           8.9845</td> <td>           0.5000</td>\n",
       "</tr>\n",
       "</table>"
      ],
      "text/plain": [
       "<class 'statsmodels.iolib.summary.Summary'>\n",
       "\"\"\"\n",
       "                              ARMA Model Results                              \n",
       "==============================================================================\n",
       "Dep. Variable:                 diff_5   No. Observations:                  268\n",
       "Model:                     ARMA(0, 1)   Log Likelihood               -1250.008\n",
       "Method:                       css-mle   S.D. of innovations             25.668\n",
       "Date:                Sun, 10 Jan 2021   AIC                           2506.016\n",
       "Time:                        21:14:29   BIC                           2516.789\n",
       "Sample:                             0   HQIC                          2510.343\n",
       "                                                                              \n",
       "================================================================================\n",
       "                   coef    std err          z      P>|z|      [0.025      0.975]\n",
       "--------------------------------------------------------------------------------\n",
       "const           -1.3292      1.742     -0.763      0.445      -4.743       2.085\n",
       "ma.L1.diff_5     0.1113      0.061      1.819      0.069      -0.009       0.231\n",
       "                                    Roots                                    \n",
       "=============================================================================\n",
       "                  Real          Imaginary           Modulus         Frequency\n",
       "-----------------------------------------------------------------------------\n",
       "MA.1           -8.9845           +0.0000j            8.9845            0.5000\n",
       "-----------------------------------------------------------------------------\n",
       "\"\"\""
      ]
     },
     "execution_count": 26,
     "metadata": {},
     "output_type": "execute_result"
    }
   ],
   "source": [
    "model_1 = ARIMA(train_model['diff_5'], order = (0,0,1))\n",
    "model_1 = model_1.fit()\n",
    "model_1.summary()"
   ]
  },
  {
   "cell_type": "code",
   "execution_count": 27,
   "metadata": {},
   "outputs": [
    {
     "name": "stdout",
     "output_type": "stream",
     "text": [
      "Date\n",
      "2011-06-23    7.603539\n",
      "2011-06-24   -8.994523\n",
      "2011-06-27    6.399442\n",
      "2011-06-28   -0.822988\n",
      "2011-06-29   -2.481869\n",
      "2011-06-30    4.275828\n",
      "2011-07-01   -2.628821\n",
      "2011-07-04    1.066536\n",
      "2011-07-05    1.270537\n",
      "2011-07-06   -1.423226\n",
      "2011-07-07    1.632539\n",
      "2011-07-08   -0.199957\n",
      "2011-07-11   -0.056802\n",
      "2011-07-12    0.989585\n",
      "2011-07-13   -0.344996\n",
      "2011-07-14    0.541656\n",
      "2011-07-15    0.376871\n",
      "2011-07-18   -0.016267\n",
      "2011-07-19    0.558804\n",
      "2011-07-20    0.138425\n",
      "2011-07-21    0.254827\n",
      "2011-07-22    0.395880\n",
      "2011-07-25    0.151544\n",
      "2011-07-26    0.347396\n",
      "2011-07-27    0.277514\n",
      "2011-07-28    0.230339\n",
      "2011-07-29    0.332596\n",
      "2011-08-01    0.242762\n",
      "2011-08-02    0.281329\n",
      "2011-08-03    0.295251\n",
      "dtype: float64\n"
     ]
    },
    {
     "name": "stderr",
     "output_type": "stream",
     "text": [
      "C:\\Users\\prana\\anaconda3\\lib\\site-packages\\statsmodels\\tsa\\base\\tsa_model.py:583: ValueWarning: No supported index is available. Prediction results will be given with an integer index beginning at `start`.\n",
      "  ValueWarning)\n"
     ]
    }
   ],
   "source": [
    "start=len(train_model)\n",
    "end=len(train_model)+len(test_model)-1\n",
    "pred=model.predict(start=start,end=end,typ='levels')\n",
    "pred.index = train.index[start:end+1]\n",
    "print(pred)"
   ]
  },
  {
   "cell_type": "code",
   "execution_count": 28,
   "metadata": {},
   "outputs": [
    {
     "name": "stdout",
     "output_type": "stream",
     "text": [
      "Date\n",
      "2011-06-23   -1.141447\n",
      "2011-06-24   -1.329174\n",
      "2011-06-27   -1.329174\n",
      "2011-06-28   -1.329174\n",
      "2011-06-29   -1.329174\n",
      "2011-06-30   -1.329174\n",
      "2011-07-01   -1.329174\n",
      "2011-07-04   -1.329174\n",
      "2011-07-05   -1.329174\n",
      "2011-07-06   -1.329174\n",
      "2011-07-07   -1.329174\n",
      "2011-07-08   -1.329174\n",
      "2011-07-11   -1.329174\n",
      "2011-07-12   -1.329174\n",
      "2011-07-13   -1.329174\n",
      "2011-07-14   -1.329174\n",
      "2011-07-15   -1.329174\n",
      "2011-07-18   -1.329174\n",
      "2011-07-19   -1.329174\n",
      "2011-07-20   -1.329174\n",
      "2011-07-21   -1.329174\n",
      "2011-07-22   -1.329174\n",
      "2011-07-25   -1.329174\n",
      "2011-07-26   -1.329174\n",
      "2011-07-27   -1.329174\n",
      "2011-07-28   -1.329174\n",
      "2011-07-29   -1.329174\n",
      "2011-08-01   -1.329174\n",
      "2011-08-02   -1.329174\n",
      "2011-08-03   -1.329174\n",
      "dtype: float64\n"
     ]
    },
    {
     "name": "stderr",
     "output_type": "stream",
     "text": [
      "C:\\Users\\prana\\anaconda3\\lib\\site-packages\\statsmodels\\tsa\\base\\tsa_model.py:583: ValueWarning: No supported index is available. Prediction results will be given with an integer index beginning at `start`.\n",
      "  ValueWarning)\n"
     ]
    }
   ],
   "source": [
    "start=len(train_model)\n",
    "end=len(train_model)+len(test_model)-1\n",
    "pred_1 =model_1.predict(start=start,end=end,typ='levels')\n",
    "pred_1.index = train.index[start:end+1]\n",
    "print(pred_1)"
   ]
  },
  {
   "cell_type": "code",
   "execution_count": 29,
   "metadata": {},
   "outputs": [
    {
     "data": {
      "text/plain": [
       "<matplotlib.axes._subplots.AxesSubplot at 0x1906d482b88>"
      ]
     },
     "execution_count": 29,
     "metadata": {},
     "output_type": "execute_result"
    },
    {
     "data": {
      "image/png": "[encoded data removed]",
      "text/plain": [
       "<Figure size 432x288 with 1 Axes>"
      ]
     },
     "metadata": {
      "needs_background": "light"
     },
     "output_type": "display_data"
    }
   ],
   "source": [
    "pred.plot(legend = True)\n",
    "test_model['Close-Stock-5'].plot(legend = True)"
   ]
  },
  {
   "cell_type": "code",
   "execution_count": 30,
   "metadata": {},
   "outputs": [
    {
     "data": {
      "text/plain": [
       "<matplotlib.axes._subplots.AxesSubplot at 0x1906d4c5948>"
      ]
     },
     "execution_count": 30,
     "metadata": {},
     "output_type": "execute_result"
    },
    {
     "data": {
      "image/png": "[encoded data removed]",
      "text/plain": [
       "<Figure size 432x288 with 1 Axes>"
      ]
     },
     "metadata": {
      "needs_background": "light"
     },
     "output_type": "display_data"
    }
   ],
   "source": [
    "pred_1.plot(legend = True)\n",
    "test_model['diff_5'].plot(legend = True)"
   ]
  },
  {
   "cell_type": "code",
   "execution_count": 31,
   "metadata": {},
   "outputs": [
    {
     "data": {
      "text/plain": [
       "1.55"
      ]
     },
     "execution_count": 31,
     "metadata": {},
     "output_type": "execute_result"
    }
   ],
   "source": [
    "test_model['Close-Stock-5'].mean()"
   ]
  },
  {
   "cell_type": "code",
   "execution_count": 32,
   "metadata": {},
   "outputs": [
    {
     "name": "stdout",
     "output_type": "stream",
     "text": [
      "23.60007862270115\n"
     ]
    }
   ],
   "source": [
    "from sklearn.metrics import mean_squared_error\n",
    "from math import sqrt\n",
    "test_model['Close-Stock-5'].mean()\n",
    "rmse=sqrt(mean_squared_error(pred,test_model['Close-Stock-5']))\n",
    "print(rmse)"
   ]
  },
  {
   "cell_type": "code",
   "execution_count": 33,
   "metadata": {},
   "outputs": [
    {
     "name": "stdout",
     "output_type": "stream",
     "text": [
      "22.145105492267806\n"
     ]
    }
   ],
   "source": [
    "from sklearn.metrics import mean_squared_error\n",
    "from math import sqrt\n",
    "test_model['diff_5'].mean()\n",
    "rmse=sqrt(mean_squared_error(pred_1,test_model['diff_5']))\n",
    "print(rmse)"
   ]
  },
  {
   "cell_type": "code",
   "execution_count": 34,
   "metadata": {},
   "outputs": [],
   "source": [
    "test_op = pd.read_csv(\"new_test.csv\",index_col = 'Date', parse_dates = True)\n",
    "y =model_1.predict(start=1,end= 97)\n",
    "output = pd.DataFrame(y)\n",
    "output.to_csv('Stock5.csv', index=False)"
   ]
  },
  {
   "cell_type": "code",
   "execution_count": null,
   "metadata": {},
   "outputs": [],
   "source": []
  }
 ],
 "metadata": {
  "kernelspec": {
   "display_name": "Python 3",
   "language": "python",
   "name": "python3"
  },
  "language_info": {
   "codemirror_mode": {
    "name": "ipython",
    "version": 3
   },
   "file_extension": ".py",
   "mimetype": "text/x-python",
   "name": "python",
   "nbconvert_exporter": "python",
   "pygments_lexer": "ipython3",
   "version": "3.7.6"
  }
 },
 "nbformat": 4,
 "nbformat_minor": 4
}
